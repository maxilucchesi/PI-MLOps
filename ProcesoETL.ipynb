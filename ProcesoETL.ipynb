{
 "cells": [
  {
   "cell_type": "markdown",
   "metadata": {},
   "source": [
    "# Librerías"
   ]
  },
  {
   "cell_type": "code",
   "execution_count": 77,
   "metadata": {},
   "outputs": [],
   "source": [
    "import pandas as pd\n",
    "import numpy as np\n",
    "import ast\n",
    "import json\n",
    "import matplotlib.pyplot as plt\n",
    "import seaborn as sns\n",
    "import csv\n",
    "import matplotlib.pyplot as plt\n",
    "import pyarrow\n",
    "sns.set()"
   ]
  },
  {
   "cell_type": "markdown",
   "metadata": {},
   "source": [
    "# _________________________________________"
   ]
  },
  {
   "cell_type": "markdown",
   "metadata": {},
   "source": [
    "# Proceso de ETL"
   ]
  },
  {
   "cell_type": "markdown",
   "metadata": {},
   "source": [
    "### Proceso de limpieza del dataframe _'users_reviews'_"
   ]
  },
  {
   "cell_type": "code",
   "execution_count": 3,
   "metadata": {},
   "outputs": [],
   "source": [
    "# Se carga el CSV generado previamente\n",
    "\n",
    "lista_rows = []\n",
    "\n",
    "with open('/Users/mlucchesi/Henry/PI/data/csv/df_user_reviews_fixed.csv', 'r') as csv_file:\n",
    "    csv_reader = csv.reader(csv_file)\n",
    "    headers = next(csv_reader)\n",
    "    for row in csv_reader:\n",
    "        lista_rows.append(row)\n",
    "\n",
    "# Se transponen las filas, guardadas en listas, para que queden como columnas\n",
    "df_user_reviews_fixed = pd.DataFrame(lista_rows, columns=headers)"
   ]
  },
  {
   "cell_type": "code",
   "execution_count": 22,
   "metadata": {},
   "outputs": [
    {
     "data": {
      "text/html": [
       "<div>\n",
       "<style scoped>\n",
       "    .dataframe tbody tr th:only-of-type {\n",
       "        vertical-align: middle;\n",
       "    }\n",
       "\n",
       "    .dataframe tbody tr th {\n",
       "        vertical-align: top;\n",
       "    }\n",
       "\n",
       "    .dataframe thead th {\n",
       "        text-align: right;\n",
       "    }\n",
       "</style>\n",
       "<table border=\"1\" class=\"dataframe\">\n",
       "  <thead>\n",
       "    <tr style=\"text-align: right;\">\n",
       "      <th></th>\n",
       "      <th></th>\n",
       "      <th>user_id</th>\n",
       "      <th>user_url</th>\n",
       "      <th>posted</th>\n",
       "      <th>item_id</th>\n",
       "      <th>helpful</th>\n",
       "      <th>recommend</th>\n",
       "      <th>review</th>\n",
       "    </tr>\n",
       "  </thead>\n",
       "  <tbody>\n",
       "    <tr>\n",
       "      <th>0</th>\n",
       "      <td>0</td>\n",
       "      <td>76561197970982479</td>\n",
       "      <td>http://steamcommunity.com/profiles/76561197970...</td>\n",
       "      <td>Posted November 5, 2011.</td>\n",
       "      <td>1250</td>\n",
       "      <td>No ratings yet</td>\n",
       "      <td>True</td>\n",
       "      <td>Simple yet with great replayability. In my opi...</td>\n",
       "    </tr>\n",
       "    <tr>\n",
       "      <th>1</th>\n",
       "      <td>1</td>\n",
       "      <td>js41637</td>\n",
       "      <td>http://steamcommunity.com/id/js41637</td>\n",
       "      <td>Posted June 24, 2014.</td>\n",
       "      <td>251610</td>\n",
       "      <td>15 of 20 people (75%) found this review helpful</td>\n",
       "      <td>True</td>\n",
       "      <td>I know what you think when you see this title ...</td>\n",
       "    </tr>\n",
       "    <tr>\n",
       "      <th>2</th>\n",
       "      <td>2</td>\n",
       "      <td>evcentric</td>\n",
       "      <td>http://steamcommunity.com/id/evcentric</td>\n",
       "      <td>Posted February 3.</td>\n",
       "      <td>248820</td>\n",
       "      <td>No ratings yet</td>\n",
       "      <td>True</td>\n",
       "      <td>A suitably punishing roguelike platformer.  Wi...</td>\n",
       "    </tr>\n",
       "    <tr>\n",
       "      <th>3</th>\n",
       "      <td>3</td>\n",
       "      <td>doctr</td>\n",
       "      <td>http://steamcommunity.com/id/doctr</td>\n",
       "      <td>Posted October 14, 2013.</td>\n",
       "      <td>250320</td>\n",
       "      <td>2 of 2 people (100%) found this review helpful</td>\n",
       "      <td>True</td>\n",
       "      <td>This game... is so fun. The fight sequences ha...</td>\n",
       "    </tr>\n",
       "    <tr>\n",
       "      <th>4</th>\n",
       "      <td>4</td>\n",
       "      <td>maplemage</td>\n",
       "      <td>http://steamcommunity.com/id/maplemage</td>\n",
       "      <td>Posted April 15, 2014.</td>\n",
       "      <td>211420</td>\n",
       "      <td>35 of 43 people (81%) found this review helpful</td>\n",
       "      <td>True</td>\n",
       "      <td>Git gud</td>\n",
       "    </tr>\n",
       "  </tbody>\n",
       "</table>\n",
       "</div>"
      ],
      "text/plain": [
       "                user_id                                           user_url  \\\n",
       "0  0  76561197970982479  http://steamcommunity.com/profiles/76561197970...   \n",
       "1  1            js41637               http://steamcommunity.com/id/js41637   \n",
       "2  2          evcentric             http://steamcommunity.com/id/evcentric   \n",
       "3  3              doctr                 http://steamcommunity.com/id/doctr   \n",
       "4  4          maplemage             http://steamcommunity.com/id/maplemage   \n",
       "\n",
       "                     posted  item_id  \\\n",
       "0  Posted November 5, 2011.     1250   \n",
       "1     Posted June 24, 2014.   251610   \n",
       "2        Posted February 3.   248820   \n",
       "3  Posted October 14, 2013.   250320   \n",
       "4    Posted April 15, 2014.   211420   \n",
       "\n",
       "                                           helpful  recommend  \\\n",
       "0                                   No ratings yet       True   \n",
       "1  15 of 20 people (75%) found this review helpful       True   \n",
       "2                                   No ratings yet       True   \n",
       "3   2 of 2 people (100%) found this review helpful       True   \n",
       "4  35 of 43 people (81%) found this review helpful       True   \n",
       "\n",
       "                                              review  \n",
       "0  Simple yet with great replayability. In my opi...  \n",
       "1  I know what you think when you see this title ...  \n",
       "2  A suitably punishing roguelike platformer.  Wi...  \n",
       "3  This game... is so fun. The fight sequences ha...  \n",
       "4                                            Git gud  "
      ]
     },
     "execution_count": 22,
     "metadata": {},
     "output_type": "execute_result"
    }
   ],
   "source": [
    "# Se muestra\n",
    "\n",
    "df_user_reviews_fixed.head()"
   ]
  },
  {
   "cell_type": "code",
   "execution_count": 5,
   "metadata": {},
   "outputs": [],
   "source": [
    "# Eliminar registros donde todos sus valores sean nulos\n",
    "\n",
    "df_user_reviews_fixed = df_user_reviews_fixed.dropna(how='all')"
   ]
  },
  {
   "cell_type": "code",
   "execution_count": 6,
   "metadata": {},
   "outputs": [],
   "source": [
    "# Reemplazar los valores vacios por 'NA'\n",
    "\n",
    "df_user_reviews_fixed.replace('', pd.NA, inplace=True)"
   ]
  },
  {
   "cell_type": "code",
   "execution_count": 9,
   "metadata": {},
   "outputs": [],
   "source": [
    "''' Elimina los registros con valores nulos en 'item_id' ya que no tendría sentido tener \n",
    "el registro de una reseña si no se conoce el 'id' del juego en cuestión '''\n",
    "\n",
    "df_user_reviews_fixed = df_user_reviews_fixed.dropna(subset=['item_id'])"
   ]
  },
  {
   "cell_type": "code",
   "execution_count": 14,
   "metadata": {},
   "outputs": [
    {
     "data": {
      "text/plain": [
       "                0.00\n",
       "user_id        53.84\n",
       "user_url       53.84\n",
       "funny          85.96\n",
       "posted          0.00\n",
       "last_edited    90.10\n",
       "item_id         0.00\n",
       "helpful         0.00\n",
       "recommend       0.00\n",
       "review          0.05\n",
       "dtype: float64"
      ]
     },
     "execution_count": 14,
     "metadata": {},
     "output_type": "execute_result"
    }
   ],
   "source": [
    "# Se analizan cuantos nulos hay en cada columna\n",
    "\n",
    "nulos_users_reviews = (df_user_reviews_fixed.isnull().mean() * 100).round(2)\n",
    "nulos_users_reviews"
   ]
  },
  {
   "cell_type": "code",
   "execution_count": 15,
   "metadata": {},
   "outputs": [],
   "source": [
    "''' Ya que en su mayoría, las columnas 'funny' y 'last_edited' son registros nulos,\n",
    "se eliminan para mejorar la optimización del dataframe '''\n",
    "\n",
    "df_user_reviews_fixed.drop(['funny', 'last_edited'], axis=1, inplace=True)"
   ]
  },
  {
   "cell_type": "code",
   "execution_count": 18,
   "metadata": {},
   "outputs": [
    {
     "name": "stdout",
     "output_type": "stream",
     "text": [
      "<class 'pandas.core.frame.DataFrame'>\n",
      "Index: 55832 entries, 0 to 154739\n",
      "Data columns (total 8 columns):\n",
      " #   Column     Non-Null Count  Dtype \n",
      "---  ------     --------------  ----- \n",
      " 0              55832 non-null  object\n",
      " 1   user_id    25771 non-null  object\n",
      " 2   user_url   25771 non-null  object\n",
      " 3   posted     55832 non-null  object\n",
      " 4   item_id    55832 non-null  object\n",
      " 5   helpful    55832 non-null  object\n",
      " 6   recommend  55832 non-null  object\n",
      " 7   review     55803 non-null  object\n",
      "dtypes: object(8)\n",
      "memory usage: 3.8+ MB\n"
     ]
    }
   ],
   "source": [
    "df_user_reviews_fixed.info()"
   ]
  },
  {
   "cell_type": "code",
   "execution_count": 20,
   "metadata": {},
   "outputs": [],
   "source": [
    "# Debido a su relevancia, se cambian los tipos de datos en las columnas 'item_id' y 'recommend'\n",
    "\n",
    "df_user_reviews_fixed['recommend'] = df_user_reviews_fixed['recommend'].astype(bool)\n",
    "df_user_reviews_fixed['item_id'] = df_user_reviews_fixed['item_id'].astype(int)"
   ]
  },
  {
   "cell_type": "code",
   "execution_count": 21,
   "metadata": {},
   "outputs": [
    {
     "name": "stdout",
     "output_type": "stream",
     "text": [
      "<class 'pandas.core.frame.DataFrame'>\n",
      "Index: 55832 entries, 0 to 154739\n",
      "Data columns (total 8 columns):\n",
      " #   Column     Non-Null Count  Dtype \n",
      "---  ------     --------------  ----- \n",
      " 0              55832 non-null  object\n",
      " 1   user_id    25771 non-null  object\n",
      " 2   user_url   25771 non-null  object\n",
      " 3   posted     55832 non-null  object\n",
      " 4   item_id    55832 non-null  int64 \n",
      " 5   helpful    55832 non-null  object\n",
      " 6   recommend  55832 non-null  bool  \n",
      " 7   review     55803 non-null  object\n",
      "dtypes: bool(1), int64(1), object(6)\n",
      "memory usage: 3.5+ MB\n"
     ]
    }
   ],
   "source": [
    "df_user_reviews_fixed.info()"
   ]
  },
  {
   "cell_type": "code",
   "execution_count": null,
   "metadata": {},
   "outputs": [],
   "source": [
    "# Elimino la primera columna que había quedado \"repitiendo\" el índice\n",
    "\n",
    "df_user_reviews_fixed = df_user_reviews_fixed.drop(columns=[''], axis=1)\n",
    "df_user_reviews_fixed"
   ]
  },
  {
   "cell_type": "code",
   "execution_count": 32,
   "metadata": {},
   "outputs": [],
   "source": [
    "# Se exportan los resultados nuevamente a un CSV \n",
    "\n",
    "df_user_reviews_fixed.to_csv('/Users/mlucchesi/Henry/PI/data/csv/procesados/users_reviews_procesado.csv')"
   ]
  },
  {
   "cell_type": "markdown",
   "metadata": {},
   "source": [
    "### Proceso de limpieza del dataframe _'steam_games'_"
   ]
  },
  {
   "cell_type": "code",
   "execution_count": 59,
   "metadata": {},
   "outputs": [],
   "source": [
    "# Se carga el CSV generado previamente\n",
    "\n",
    "lista_rows = []\n",
    "\n",
    "with open('/Users/mlucchesi/Henry/PI/data/csv/df_steam_games.csv', 'r') as csv_file:\n",
    "    csv_reader = csv.reader(csv_file)\n",
    "    headers = next(csv_reader)\n",
    "    for row in csv_reader:\n",
    "        lista_rows.append(row)\n",
    "\n",
    "# Se transponen las filas, guardadas en listas, para que queden como columnas\n",
    "df_steam_games = pd.DataFrame(lista_rows, columns=headers)"
   ]
  },
  {
   "cell_type": "code",
   "execution_count": 60,
   "metadata": {},
   "outputs": [
    {
     "data": {
      "text/html": [
       "<div>\n",
       "<style scoped>\n",
       "    .dataframe tbody tr th:only-of-type {\n",
       "        vertical-align: middle;\n",
       "    }\n",
       "\n",
       "    .dataframe tbody tr th {\n",
       "        vertical-align: top;\n",
       "    }\n",
       "\n",
       "    .dataframe thead th {\n",
       "        text-align: right;\n",
       "    }\n",
       "</style>\n",
       "<table border=\"1\" class=\"dataframe\">\n",
       "  <thead>\n",
       "    <tr style=\"text-align: right;\">\n",
       "      <th></th>\n",
       "      <th></th>\n",
       "      <th>publisher</th>\n",
       "      <th>genres</th>\n",
       "      <th>app_name</th>\n",
       "      <th>title</th>\n",
       "      <th>url</th>\n",
       "      <th>release_date</th>\n",
       "      <th>tags</th>\n",
       "      <th>reviews_url</th>\n",
       "      <th>specs</th>\n",
       "      <th>price</th>\n",
       "      <th>early_access</th>\n",
       "      <th>id</th>\n",
       "      <th>developer</th>\n",
       "    </tr>\n",
       "  </thead>\n",
       "  <tbody>\n",
       "    <tr>\n",
       "      <th>120440</th>\n",
       "      <td>120440</td>\n",
       "      <td>Ghost_RUS Games</td>\n",
       "      <td>['Casual', 'Indie', 'Simulation', 'Strategy']</td>\n",
       "      <td>Colony On Mars</td>\n",
       "      <td>Colony On Mars</td>\n",
       "      <td>http://store.steampowered.com/app/773640/Colon...</td>\n",
       "      <td>2018-01-04</td>\n",
       "      <td>['Strategy', 'Indie', 'Casual', 'Simulation']</td>\n",
       "      <td>http://steamcommunity.com/app/773640/reviews/?...</td>\n",
       "      <td>['Single-player', 'Steam Achievements']</td>\n",
       "      <td>1.99</td>\n",
       "      <td>0.0</td>\n",
       "      <td>773640.0</td>\n",
       "      <td>Nikita \"Ghost_RUS\"</td>\n",
       "    </tr>\n",
       "    <tr>\n",
       "      <th>120441</th>\n",
       "      <td>120441</td>\n",
       "      <td>Sacada</td>\n",
       "      <td>['Casual', 'Indie', 'Strategy']</td>\n",
       "      <td>LOGistICAL: South Africa</td>\n",
       "      <td>LOGistICAL: South Africa</td>\n",
       "      <td>http://store.steampowered.com/app/733530/LOGis...</td>\n",
       "      <td>2018-01-04</td>\n",
       "      <td>['Strategy', 'Indie', 'Casual']</td>\n",
       "      <td>http://steamcommunity.com/app/733530/reviews/?...</td>\n",
       "      <td>['Single-player', 'Steam Achievements', 'Steam...</td>\n",
       "      <td>4.99</td>\n",
       "      <td>0.0</td>\n",
       "      <td>733530.0</td>\n",
       "      <td>Sacada</td>\n",
       "    </tr>\n",
       "    <tr>\n",
       "      <th>120442</th>\n",
       "      <td>120442</td>\n",
       "      <td>Laush Studio</td>\n",
       "      <td>['Indie', 'Racing', 'Simulation']</td>\n",
       "      <td>Russian Roads</td>\n",
       "      <td>Russian Roads</td>\n",
       "      <td>http://store.steampowered.com/app/610660/Russi...</td>\n",
       "      <td>2018-01-04</td>\n",
       "      <td>['Indie', 'Simulation', 'Racing']</td>\n",
       "      <td>http://steamcommunity.com/app/610660/reviews/?...</td>\n",
       "      <td>['Single-player', 'Steam Achievements', 'Steam...</td>\n",
       "      <td>1.99</td>\n",
       "      <td>0.0</td>\n",
       "      <td>610660.0</td>\n",
       "      <td>Laush Dmitriy Sergeevich</td>\n",
       "    </tr>\n",
       "    <tr>\n",
       "      <th>120443</th>\n",
       "      <td>120443</td>\n",
       "      <td>SIXNAILS</td>\n",
       "      <td>['Casual', 'Indie']</td>\n",
       "      <td>EXIT 2 - Directions</td>\n",
       "      <td>EXIT 2 - Directions</td>\n",
       "      <td>http://store.steampowered.com/app/658870/EXIT_...</td>\n",
       "      <td>2017-09-02</td>\n",
       "      <td>['Indie', 'Casual', 'Puzzle', 'Singleplayer', ...</td>\n",
       "      <td>http://steamcommunity.com/app/658870/reviews/?...</td>\n",
       "      <td>['Single-player', 'Steam Achievements', 'Steam...</td>\n",
       "      <td>4.99</td>\n",
       "      <td>0.0</td>\n",
       "      <td>658870.0</td>\n",
       "      <td>xropi,stev3ns</td>\n",
       "    </tr>\n",
       "    <tr>\n",
       "      <th>120444</th>\n",
       "      <td>120444</td>\n",
       "      <td></td>\n",
       "      <td></td>\n",
       "      <td>Maze Run VR</td>\n",
       "      <td></td>\n",
       "      <td>http://store.steampowered.com/app/681550/Maze_...</td>\n",
       "      <td></td>\n",
       "      <td>['Early Access', 'Adventure', 'Indie', 'Action...</td>\n",
       "      <td>http://steamcommunity.com/app/681550/reviews/?...</td>\n",
       "      <td>['Single-player', 'Stats', 'Steam Leaderboards...</td>\n",
       "      <td>4.99</td>\n",
       "      <td>1.0</td>\n",
       "      <td>681550.0</td>\n",
       "      <td></td>\n",
       "    </tr>\n",
       "  </tbody>\n",
       "</table>\n",
       "</div>"
      ],
      "text/plain": [
       "                      publisher  \\\n",
       "120440  120440  Ghost_RUS Games   \n",
       "120441  120441           Sacada   \n",
       "120442  120442     Laush Studio   \n",
       "120443  120443         SIXNAILS   \n",
       "120444  120444                    \n",
       "\n",
       "                                               genres  \\\n",
       "120440  ['Casual', 'Indie', 'Simulation', 'Strategy']   \n",
       "120441                ['Casual', 'Indie', 'Strategy']   \n",
       "120442              ['Indie', 'Racing', 'Simulation']   \n",
       "120443                            ['Casual', 'Indie']   \n",
       "120444                                                  \n",
       "\n",
       "                        app_name                     title  \\\n",
       "120440            Colony On Mars            Colony On Mars   \n",
       "120441  LOGistICAL: South Africa  LOGistICAL: South Africa   \n",
       "120442             Russian Roads             Russian Roads   \n",
       "120443       EXIT 2 - Directions       EXIT 2 - Directions   \n",
       "120444               Maze Run VR                             \n",
       "\n",
       "                                                      url release_date  \\\n",
       "120440  http://store.steampowered.com/app/773640/Colon...   2018-01-04   \n",
       "120441  http://store.steampowered.com/app/733530/LOGis...   2018-01-04   \n",
       "120442  http://store.steampowered.com/app/610660/Russi...   2018-01-04   \n",
       "120443  http://store.steampowered.com/app/658870/EXIT_...   2017-09-02   \n",
       "120444  http://store.steampowered.com/app/681550/Maze_...                \n",
       "\n",
       "                                                     tags  \\\n",
       "120440      ['Strategy', 'Indie', 'Casual', 'Simulation']   \n",
       "120441                    ['Strategy', 'Indie', 'Casual']   \n",
       "120442                  ['Indie', 'Simulation', 'Racing']   \n",
       "120443  ['Indie', 'Casual', 'Puzzle', 'Singleplayer', ...   \n",
       "120444  ['Early Access', 'Adventure', 'Indie', 'Action...   \n",
       "\n",
       "                                              reviews_url  \\\n",
       "120440  http://steamcommunity.com/app/773640/reviews/?...   \n",
       "120441  http://steamcommunity.com/app/733530/reviews/?...   \n",
       "120442  http://steamcommunity.com/app/610660/reviews/?...   \n",
       "120443  http://steamcommunity.com/app/658870/reviews/?...   \n",
       "120444  http://steamcommunity.com/app/681550/reviews/?...   \n",
       "\n",
       "                                                    specs price early_access  \\\n",
       "120440            ['Single-player', 'Steam Achievements']  1.99          0.0   \n",
       "120441  ['Single-player', 'Steam Achievements', 'Steam...  4.99          0.0   \n",
       "120442  ['Single-player', 'Steam Achievements', 'Steam...  1.99          0.0   \n",
       "120443  ['Single-player', 'Steam Achievements', 'Steam...  4.99          0.0   \n",
       "120444  ['Single-player', 'Stats', 'Steam Leaderboards...  4.99          1.0   \n",
       "\n",
       "              id                 developer  \n",
       "120440  773640.0        Nikita \"Ghost_RUS\"  \n",
       "120441  733530.0                    Sacada  \n",
       "120442  610660.0  Laush Dmitriy Sergeevich  \n",
       "120443  658870.0             xropi,stev3ns  \n",
       "120444  681550.0                            "
      ]
     },
     "execution_count": 60,
     "metadata": {},
     "output_type": "execute_result"
    }
   ],
   "source": [
    "# Muestro el dataframe (los últimos registros ya que los primeros son todos nulos)\n",
    "\n",
    "df_steam_games.tail()"
   ]
  },
  {
   "cell_type": "code",
   "execution_count": 61,
   "metadata": {},
   "outputs": [
    {
     "name": "stdout",
     "output_type": "stream",
     "text": [
      "<class 'pandas.core.frame.DataFrame'>\n",
      "RangeIndex: 120445 entries, 0 to 120444\n",
      "Data columns (total 14 columns):\n",
      " #   Column        Non-Null Count   Dtype \n",
      "---  ------        --------------   ----- \n",
      " 0                 120445 non-null  object\n",
      " 1   publisher     120445 non-null  object\n",
      " 2   genres        120445 non-null  object\n",
      " 3   app_name      120445 non-null  object\n",
      " 4   title         120445 non-null  object\n",
      " 5   url           120445 non-null  object\n",
      " 6   release_date  120445 non-null  object\n",
      " 7   tags          120445 non-null  object\n",
      " 8   reviews_url   120445 non-null  object\n",
      " 9   specs         120445 non-null  object\n",
      " 10  price         120445 non-null  object\n",
      " 11  early_access  120445 non-null  object\n",
      " 12  id            120445 non-null  object\n",
      " 13  developer     120445 non-null  object\n",
      "dtypes: object(14)\n",
      "memory usage: 12.9+ MB\n"
     ]
    }
   ],
   "source": [
    "df_steam_games.info()"
   ]
  },
  {
   "cell_type": "code",
   "execution_count": 62,
   "metadata": {},
   "outputs": [],
   "source": [
    "# Elimino la primera columna que había quedado \"repitiendo\" el índice\n",
    "\n",
    "df_steam_games = df_steam_games.drop(columns=[''], axis=1)"
   ]
  },
  {
   "cell_type": "code",
   "execution_count": 63,
   "metadata": {},
   "outputs": [],
   "source": [
    "# Eliminar registros donde todos sus valores sean nulos\n",
    "\n",
    "df_steam_games = df_steam_games.dropna(how='all')"
   ]
  },
  {
   "cell_type": "code",
   "execution_count": 64,
   "metadata": {},
   "outputs": [],
   "source": [
    "# Reemplazar los valores vacios por 'NA'\n",
    "\n",
    "df_steam_games.replace('', pd.NA, inplace=True)"
   ]
  },
  {
   "cell_type": "code",
   "execution_count": 65,
   "metadata": {},
   "outputs": [
    {
     "name": "stdout",
     "output_type": "stream",
     "text": [
      "<class 'pandas.core.frame.DataFrame'>\n",
      "RangeIndex: 120445 entries, 0 to 120444\n",
      "Data columns (total 13 columns):\n",
      " #   Column        Non-Null Count  Dtype \n",
      "---  ------        --------------  ----- \n",
      " 0   publisher     24083 non-null  object\n",
      " 1   genres        28852 non-null  object\n",
      " 2   app_name      32133 non-null  object\n",
      " 3   title         30085 non-null  object\n",
      " 4   url           32135 non-null  object\n",
      " 5   release_date  30068 non-null  object\n",
      " 6   tags          31972 non-null  object\n",
      " 7   reviews_url   32133 non-null  object\n",
      " 8   specs         31465 non-null  object\n",
      " 9   price         30758 non-null  object\n",
      " 10  early_access  32135 non-null  object\n",
      " 11  id            32133 non-null  object\n",
      " 12  developer     28836 non-null  object\n",
      "dtypes: object(13)\n",
      "memory usage: 11.9+ MB\n"
     ]
    }
   ],
   "source": [
    "df_steam_games.info()"
   ]
  },
  {
   "cell_type": "code",
   "execution_count": 66,
   "metadata": {},
   "outputs": [
    {
     "name": "stdout",
     "output_type": "stream",
     "text": [
      "Número total de valores diferentes en 'prices': 162\n",
      "\n",
      "0.49\n",
      "0.5\n",
      "0.89\n",
      "0.9500000000000001\n",
      "0.98\n",
      "0.99\n",
      "1.0\n",
      "1.25\n",
      "1.29\n",
      "1.3900000000000001\n",
      "1.49\n",
      "1.5\n",
      "1.5899999999999999\n",
      "1.87\n",
      "1.9500000000000002\n",
      "1.99\n",
      "10.0\n",
      "10.49\n",
      "10.93\n",
      "10.96\n",
      "10.99\n",
      "109.99\n",
      "11.15\n",
      "11.99\n",
      "119.99\n",
      "12.0\n",
      "12.89\n",
      "12.99\n",
      "124.99\n",
      "129.99\n",
      "13.37\n",
      "13.98\n",
      "13.99\n",
      "131.4\n",
      "139.92\n",
      "14.95\n",
      "14.99\n",
      "149.99\n",
      "15.0\n",
      "15.99\n",
      "16.06\n",
      "16.99\n",
      "160.91\n",
      "17.99\n",
      "172.24\n",
      "179.0\n",
      "18.9\n",
      "18.99\n",
      "189.0\n",
      "189.96\n",
      "19.29\n",
      "19.95\n",
      "19.98\n",
      "19.99\n",
      "199.0\n",
      "199.99\n",
      "2.0\n",
      "2.3\n",
      "2.49\n",
      "2.66\n",
      "2.89\n",
      "2.9699999999999998\n",
      "2.99\n",
      "20.0\n",
      "20.99\n",
      "202.76\n",
      "21.99\n",
      "22.99\n",
      "23.96\n",
      "23.99\n",
      "234.99\n",
      "24.99\n",
      "249.99\n",
      "26.99\n",
      "27.49\n",
      "27.99\n",
      "289.99\n",
      "29.96\n",
      "29.99\n",
      "299.99\n",
      "3.0\n",
      "3.33\n",
      "3.39\n",
      "3.49\n",
      "3.99\n",
      "30.0\n",
      "31.99\n",
      "32.99\n",
      "320.0\n",
      "34.99\n",
      "36.99\n",
      "38.85\n",
      "39.99\n",
      "399.0\n",
      "399.99\n",
      "4.0\n",
      "4.29\n",
      "4.49\n",
      "4.68\n",
      "4.99\n",
      "40.0\n",
      "41.99\n",
      "42.99\n",
      "44.98\n",
      "44.99\n",
      "49.0\n",
      "49.99\n",
      "499.99\n",
      "5.0\n",
      "5.49\n",
      "5.65\n",
      "5.99\n",
      "54.99\n",
      "59.95\n",
      "59.99\n",
      "599.0\n",
      "6.0\n",
      "6.48\n",
      "6.49\n",
      "6.66\n",
      "6.99\n",
      "61.99\n",
      "64.99\n",
      "69.99\n",
      "7.0\n",
      "7.49\n",
      "7.99\n",
      "71.7\n",
      "74.76\n",
      "74.99\n",
      "771.71\n",
      "79.99\n",
      "8.98\n",
      "8.99\n",
      "87.94\n",
      "89.99\n",
      "9.0\n",
      "9.69\n",
      "9.95\n",
      "9.98\n",
      "9.99\n",
      "99.0\n",
      "99.99\n",
      "995.0\n",
      "Free\n",
      "Free Demo\n",
      "Free HITMAN™ Holiday Pack\n",
      "Free Mod\n",
      "Free Movie\n",
      "Free To Play\n",
      "Free to Play\n",
      "Free to Try\n",
      "Free to Use\n",
      "Install Now\n",
      "Install Theme\n",
      "Play Now\n",
      "Play WARMACHINE: Tactics Demo\n",
      "Play for Free!\n",
      "Play the Demo\n",
      "Starting at $449.00\n",
      "Starting at $499.00\n",
      "Third-party\n"
     ]
    }
   ],
   "source": [
    "# Hago un análisis de todos los valores que componen la columna 'price'\n",
    "\n",
    "prices_sin_na = df_steam_games['price'].dropna()\n",
    "\n",
    "prices_unique = prices_sin_na.unique()\n",
    "\n",
    "# Los ordeno para diferenciar los números de los strings\n",
    "prices_sorted = sorted(prices_unique)\n",
    "\n",
    "# Mostrar los valores distintos de 'price' ordenados\n",
    "num_prices = len(prices_sorted)\n",
    "print(\"Número total de valores diferentes en 'prices':\", num_prices)\n",
    "print()\n",
    "\n",
    "for price in prices_sorted:\n",
    "    print(price)\n"
   ]
  },
  {
   "cell_type": "code",
   "execution_count": 67,
   "metadata": {},
   "outputs": [],
   "source": [
    "# Reemplazo todos los registros con strings referidos a que un juego es gratis, por el valor '0' (todavía en string)\n",
    "\n",
    "df_steam_games.replace(['Free', 'Free Demo', 'Free HITMAN™ Holiday Pack', 'Free Mod', 'Free Movie', 'Free To Play', 'Free to Play', 'Free to Try', 'Free to Use', 'Play for Free!'], '0', inplace=True)"
   ]
  },
  {
   "cell_type": "code",
   "execution_count": null,
   "metadata": {},
   "outputs": [],
   "source": [
    "df_steam_games.tail()\n"
   ]
  },
  {
   "cell_type": "code",
   "execution_count": 69,
   "metadata": {},
   "outputs": [],
   "source": [
    "# Elimina los valores diferentes a números y los valores nulos de la columna 'price'\n",
    "\n",
    "df_steam_games = df_steam_games[df_steam_games['price'].notna() & df_steam_games['price'].str.match(r'^-?\\d+\\.?\\d*$')]"
   ]
  },
  {
   "cell_type": "code",
   "execution_count": 70,
   "metadata": {},
   "outputs": [],
   "source": [
    "# Transformo el tipo de datos de la columna 'price' a float\n",
    "\n",
    "df_steam_games['price']= df_steam_games['price'].astype(float)"
   ]
  },
  {
   "cell_type": "code",
   "execution_count": 71,
   "metadata": {},
   "outputs": [
    {
     "name": "stdout",
     "output_type": "stream",
     "text": [
      "<class 'pandas.core.frame.DataFrame'>\n",
      "Index: 30748 entries, 88310 to 120444\n",
      "Data columns (total 13 columns):\n",
      " #   Column        Non-Null Count  Dtype  \n",
      "---  ------        --------------  -----  \n",
      " 0   publisher     22979 non-null  object \n",
      " 1   genres        27614 non-null  object \n",
      " 2   app_name      30747 non-null  object \n",
      " 3   title         28815 non-null  object \n",
      " 4   url           30748 non-null  object \n",
      " 5   release_date  28811 non-null  object \n",
      " 6   tags          30617 non-null  object \n",
      " 7   reviews_url   30746 non-null  object \n",
      " 8   specs         30094 non-null  object \n",
      " 9   price         30748 non-null  float64\n",
      " 10  early_access  30748 non-null  object \n",
      " 11  id            30746 non-null  object \n",
      " 12  developer     27593 non-null  object \n",
      "dtypes: float64(1), object(12)\n",
      "memory usage: 3.3+ MB\n"
     ]
    }
   ],
   "source": [
    "df_steam_games.info()"
   ]
  },
  {
   "cell_type": "code",
   "execution_count": 73,
   "metadata": {},
   "outputs": [
    {
     "data": {
      "text/plain": [
       "publisher       25.27\n",
       "genres          10.19\n",
       "app_name         0.00\n",
       "title            6.29\n",
       "url              0.00\n",
       "release_date     6.30\n",
       "tags             0.43\n",
       "reviews_url      0.01\n",
       "specs            2.13\n",
       "price            0.00\n",
       "early_access     0.00\n",
       "id               0.01\n",
       "developer       10.26\n",
       "dtype: float64"
      ]
     },
     "execution_count": 73,
     "metadata": {},
     "output_type": "execute_result"
    }
   ],
   "source": [
    "# Analizo cuantos valores nulos quedaron por columna luego del proceso de transoformación\n",
    "\n",
    "nulos_steam_games = (df_steam_games.isnull().mean() * 100).round(2)\n",
    "nulos_steam_games"
   ]
  },
  {
   "cell_type": "code",
   "execution_count": 74,
   "metadata": {},
   "outputs": [],
   "source": [
    "# Se exportan los resultados nuevamente a un CSV \n",
    "\n",
    "df_steam_games.to_csv('/Users/mlucchesi/Henry/PI/data/csv/procesados/steam_games_procesado.csv')"
   ]
  },
  {
   "cell_type": "code",
   "execution_count": 78,
   "metadata": {},
   "outputs": [],
   "source": [
    "# Se exporta a parquet, por motivos de optimización en la API\n",
    "\n",
    "df_steam_games.to_parquet('/Users/mlucchesi/Henry/PI/data/parquet/steam_games.parquet', engine='pyarrow')"
   ]
  },
  {
   "cell_type": "markdown",
   "metadata": {},
   "source": [
    "### Proceso de limpieza del dataframe _'users_items'_"
   ]
  },
  {
   "cell_type": "code",
   "execution_count": 79,
   "metadata": {},
   "outputs": [],
   "source": [
    "# Se carga el CSV generado previamente\n",
    "\n",
    "lista_rows = []\n",
    "\n",
    "with open('/Users/mlucchesi/Henry/PI/data/csv/df_users_items_fixed.csv', 'r') as csv_file:\n",
    "    csv_reader = csv.reader(csv_file)\n",
    "    headers = next(csv_reader)\n",
    "    for row in csv_reader:\n",
    "        lista_rows.append(row)\n",
    "\n",
    "# Se transponen las filas, guardadas en listas, para que queden como columnas\n",
    "df_users_items = pd.DataFrame(lista_rows, columns=headers)"
   ]
  },
  {
   "cell_type": "code",
   "execution_count": 86,
   "metadata": {},
   "outputs": [
    {
     "data": {
      "text/html": [
       "<div>\n",
       "<style scoped>\n",
       "    .dataframe tbody tr th:only-of-type {\n",
       "        vertical-align: middle;\n",
       "    }\n",
       "\n",
       "    .dataframe tbody tr th {\n",
       "        vertical-align: top;\n",
       "    }\n",
       "\n",
       "    .dataframe thead th {\n",
       "        text-align: right;\n",
       "    }\n",
       "</style>\n",
       "<table border=\"1\" class=\"dataframe\">\n",
       "  <thead>\n",
       "    <tr style=\"text-align: right;\">\n",
       "      <th></th>\n",
       "      <th>user_id</th>\n",
       "      <th>items_count</th>\n",
       "      <th>steam_id</th>\n",
       "      <th>user_url</th>\n",
       "      <th>item_id</th>\n",
       "      <th>item_name</th>\n",
       "      <th>playtime_forever</th>\n",
       "      <th>playtime_2weeks</th>\n",
       "    </tr>\n",
       "  </thead>\n",
       "  <tbody>\n",
       "    <tr>\n",
       "      <th>0</th>\n",
       "      <td>76561197970982479</td>\n",
       "      <td>277.0</td>\n",
       "      <td>76561197970982479</td>\n",
       "      <td>http://steamcommunity.com/profiles/76561197970...</td>\n",
       "      <td>10</td>\n",
       "      <td>Counter-Strike</td>\n",
       "      <td>6</td>\n",
       "      <td>0</td>\n",
       "    </tr>\n",
       "    <tr>\n",
       "      <th>1</th>\n",
       "      <td>js41637</td>\n",
       "      <td>888.0</td>\n",
       "      <td>76561198035864385</td>\n",
       "      <td>http://steamcommunity.com/id/js41637</td>\n",
       "      <td>20</td>\n",
       "      <td>Team Fortress Classic</td>\n",
       "      <td>0</td>\n",
       "      <td>0</td>\n",
       "    </tr>\n",
       "    <tr>\n",
       "      <th>2</th>\n",
       "      <td>evcentric</td>\n",
       "      <td>137.0</td>\n",
       "      <td>76561198007712555</td>\n",
       "      <td>http://steamcommunity.com/id/evcentric</td>\n",
       "      <td>30</td>\n",
       "      <td>Day of Defeat</td>\n",
       "      <td>7</td>\n",
       "      <td>0</td>\n",
       "    </tr>\n",
       "    <tr>\n",
       "      <th>3</th>\n",
       "      <td>Riot-Punch</td>\n",
       "      <td>328.0</td>\n",
       "      <td>76561197963445855</td>\n",
       "      <td>http://steamcommunity.com/id/Riot-Punch</td>\n",
       "      <td>40</td>\n",
       "      <td>Deathmatch Classic</td>\n",
       "      <td>0</td>\n",
       "      <td>0</td>\n",
       "    </tr>\n",
       "    <tr>\n",
       "      <th>4</th>\n",
       "      <td>doctr</td>\n",
       "      <td>541.0</td>\n",
       "      <td>76561198002099482</td>\n",
       "      <td>http://steamcommunity.com/id/doctr</td>\n",
       "      <td>50</td>\n",
       "      <td>Half-Life: Opposing Force</td>\n",
       "      <td>0</td>\n",
       "      <td>0</td>\n",
       "    </tr>\n",
       "  </tbody>\n",
       "</table>\n",
       "</div>"
      ],
      "text/plain": [
       "             user_id items_count           steam_id  \\\n",
       "0  76561197970982479       277.0  76561197970982479   \n",
       "1            js41637       888.0  76561198035864385   \n",
       "2          evcentric       137.0  76561198007712555   \n",
       "3         Riot-Punch       328.0  76561197963445855   \n",
       "4              doctr       541.0  76561198002099482   \n",
       "\n",
       "                                            user_url item_id  \\\n",
       "0  http://steamcommunity.com/profiles/76561197970...      10   \n",
       "1               http://steamcommunity.com/id/js41637      20   \n",
       "2             http://steamcommunity.com/id/evcentric      30   \n",
       "3            http://steamcommunity.com/id/Riot-Punch      40   \n",
       "4                 http://steamcommunity.com/id/doctr      50   \n",
       "\n",
       "                   item_name playtime_forever playtime_2weeks  \n",
       "0             Counter-Strike                6               0  \n",
       "1      Team Fortress Classic                0               0  \n",
       "2              Day of Defeat                7               0  \n",
       "3         Deathmatch Classic                0               0  \n",
       "4  Half-Life: Opposing Force                0               0  "
      ]
     },
     "execution_count": 86,
     "metadata": {},
     "output_type": "execute_result"
    }
   ],
   "source": [
    "# Muestro los primeros registros\n",
    "\n",
    "df_users_items.head()"
   ]
  },
  {
   "cell_type": "code",
   "execution_count": 82,
   "metadata": {},
   "outputs": [
    {
     "name": "stdout",
     "output_type": "stream",
     "text": [
      "<class 'pandas.core.frame.DataFrame'>\n",
      "RangeIndex: 5153209 entries, 0 to 5153208\n",
      "Data columns (total 9 columns):\n",
      " #   Column            Dtype \n",
      "---  ------            ----- \n",
      " 0                     object\n",
      " 1   user_id           object\n",
      " 2   items_count       object\n",
      " 3   steam_id          object\n",
      " 4   user_url          object\n",
      " 5   item_id           object\n",
      " 6   item_name         object\n",
      " 7   playtime_forever  object\n",
      " 8   playtime_2weeks   object\n",
      "dtypes: object(9)\n",
      "memory usage: 353.8+ MB\n"
     ]
    }
   ],
   "source": [
    "df_users_items.info()"
   ]
  },
  {
   "cell_type": "code",
   "execution_count": 83,
   "metadata": {},
   "outputs": [],
   "source": [
    "# Elimino la primera columna que había quedado \"repitiendo\" el índice\n",
    "\n",
    "df_users_items = df_users_items.drop(columns=[''], axis=1)"
   ]
  },
  {
   "cell_type": "code",
   "execution_count": 84,
   "metadata": {},
   "outputs": [
    {
     "name": "stdout",
     "output_type": "stream",
     "text": [
      "<class 'pandas.core.frame.DataFrame'>\n",
      "RangeIndex: 5153209 entries, 0 to 5153208\n",
      "Data columns (total 8 columns):\n",
      " #   Column            Dtype \n",
      "---  ------            ----- \n",
      " 0   user_id           object\n",
      " 1   items_count       object\n",
      " 2   steam_id          object\n",
      " 3   user_url          object\n",
      " 4   item_id           object\n",
      " 5   item_name         object\n",
      " 6   playtime_forever  object\n",
      " 7   playtime_2weeks   object\n",
      "dtypes: object(8)\n",
      "memory usage: 314.5+ MB\n"
     ]
    }
   ],
   "source": [
    "df_users_items.info()"
   ]
  },
  {
   "cell_type": "code",
   "execution_count": 87,
   "metadata": {},
   "outputs": [],
   "source": [
    "# Eliminar registros donde todos sus valores sean nulos\n",
    "\n",
    "df_users_items = df_users_items.dropna(how='all')"
   ]
  },
  {
   "cell_type": "code",
   "execution_count": 88,
   "metadata": {},
   "outputs": [],
   "source": [
    "\n",
    "# Reemplazar los valores vacios por 'NA'\n",
    "\n",
    "df_users_items.replace('', pd.NA, inplace=True)"
   ]
  },
  {
   "cell_type": "code",
   "execution_count": 89,
   "metadata": {},
   "outputs": [
    {
     "name": "stdout",
     "output_type": "stream",
     "text": [
      "<class 'pandas.core.frame.DataFrame'>\n",
      "RangeIndex: 5153209 entries, 0 to 5153208\n",
      "Data columns (total 8 columns):\n",
      " #   Column            Dtype \n",
      "---  ------            ----- \n",
      " 0   user_id           object\n",
      " 1   items_count       object\n",
      " 2   steam_id          object\n",
      " 3   user_url          object\n",
      " 4   item_id           object\n",
      " 5   item_name         object\n",
      " 6   playtime_forever  object\n",
      " 7   playtime_2weeks   object\n",
      "dtypes: object(8)\n",
      "memory usage: 314.5+ MB\n"
     ]
    }
   ],
   "source": [
    "df_users_items.info()"
   ]
  },
  {
   "cell_type": "code",
   "execution_count": 90,
   "metadata": {},
   "outputs": [
    {
     "data": {
      "text/plain": [
       "user_id             98.29\n",
       "items_count         98.29\n",
       "steam_id            98.29\n",
       "user_url            98.29\n",
       "item_id              0.00\n",
       "item_name            0.00\n",
       "playtime_forever     0.00\n",
       "playtime_2weeks      0.00\n",
       "dtype: float64"
      ]
     },
     "execution_count": 90,
     "metadata": {},
     "output_type": "execute_result"
    }
   ],
   "source": [
    "# Analizo cuantos valores nulos quedaron por columna luego del proceso de transoformación\n",
    "\n",
    "nulos_users_items = (df_users_items.isnull().mean() * 100).round(2)\n",
    "nulos_users_items"
   ]
  },
  {
   "cell_type": "code",
   "execution_count": 91,
   "metadata": {},
   "outputs": [],
   "source": [
    "# Debido a su relevancia, se cambian los tipos de datos en las columnas 'item_id', 'playtime_forever' y 'playtime_2weeks'\n",
    "\n",
    "df_users_items['item_id'] = df_users_items['item_id'].astype(int)\n",
    "\n",
    "df_users_items['playtime_forever'] = df_users_items['playtime_forever'].astype(int)\n",
    "\n",
    "df_users_items['playtime_2weeks'] = df_users_items['playtime_2weeks'].astype(int)"
   ]
  },
  {
   "cell_type": "code",
   "execution_count": 92,
   "metadata": {},
   "outputs": [
    {
     "name": "stdout",
     "output_type": "stream",
     "text": [
      "<class 'pandas.core.frame.DataFrame'>\n",
      "RangeIndex: 5153209 entries, 0 to 5153208\n",
      "Data columns (total 8 columns):\n",
      " #   Column            Dtype \n",
      "---  ------            ----- \n",
      " 0   user_id           object\n",
      " 1   items_count       object\n",
      " 2   steam_id          object\n",
      " 3   user_url          object\n",
      " 4   item_id           int64 \n",
      " 5   item_name         object\n",
      " 6   playtime_forever  int64 \n",
      " 7   playtime_2weeks   int64 \n",
      "dtypes: int64(3), object(5)\n",
      "memory usage: 314.5+ MB\n"
     ]
    }
   ],
   "source": [
    "df_users_items.info()"
   ]
  },
  {
   "cell_type": "code",
   "execution_count": 93,
   "metadata": {},
   "outputs": [],
   "source": [
    "# Se exportan los resultados nuevamente a un CSV \n",
    "\n",
    "df_users_items.to_csv('/Users/mlucchesi/Henry/PI/data/csv/procesados/users_items_procesado.csv')"
   ]
  }
 ],
 "metadata": {
  "kernelspec": {
   "display_name": "Python 3",
   "language": "python",
   "name": "python3"
  },
  "language_info": {
   "codemirror_mode": {
    "name": "ipython",
    "version": 3
   },
   "file_extension": ".py",
   "mimetype": "text/x-python",
   "name": "python",
   "nbconvert_exporter": "python",
   "pygments_lexer": "ipython3",
   "version": "3.10.11"
  }
 },
 "nbformat": 4,
 "nbformat_minor": 2
}
