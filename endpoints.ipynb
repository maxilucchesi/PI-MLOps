{
 "cells": [
  {
   "cell_type": "markdown",
   "metadata": {},
   "source": [
    "# Librerías"
   ]
  },
  {
   "cell_type": "code",
   "execution_count": 2,
   "metadata": {},
   "outputs": [],
   "source": [
    "import pandas as pd\n",
    "import numpy as np\n",
    "import warnings\n",
    "warnings.filterwarnings(\"ignore\")\n",
    "import pyarrow.parquet as pq\n",
    "import ast\n",
    "from dateutil import parser\n",
    "import re"
   ]
  },
  {
   "cell_type": "markdown",
   "metadata": {},
   "source": [
    "# Endpoints"
   ]
  },
  {
   "cell_type": "code",
   "execution_count": 3,
   "metadata": {},
   "outputs": [],
   "source": [
    "# Se cargan los dataframes de los tres archivos nuevamente\n",
    "\n",
    "# steam_games\n",
    "df_steam_games = pd.read_csv('/Users/mlucchesi/Henry/PI/data/csv/procesados/steam_games_procesado.csv')\n",
    "\n",
    "# user_reviews\n",
    "df_user_reviews = pd.read_csv('/Users/mlucchesi/Henry/PI/data/csv/procesados/user_reviews_procesado_nlp.csv')\n",
    "\n",
    "# users_items\n",
    "df_users_items = pd.read_csv('/Users/mlucchesi/Henry/PI/data/csv/procesados/users_items_procesado.csv')"
   ]
  },
  {
   "cell_type": "markdown",
   "metadata": {},
   "source": [
    "### Archivo ```steam_games```"
   ]
  },
  {
   "cell_type": "code",
   "execution_count": 4,
   "metadata": {},
   "outputs": [],
   "source": [
    "# Se crea una función que extraiga el año del lanzamiento del juego de 'release_date'\n",
    "\n",
    "def get_year(date):\n",
    "    try:\n",
    "        date_object = parser.parse(date)\n",
    "        return date_object.year\n",
    "    except:\n",
    "        return None\n",
    "    \n",
    "# Creo una columna con el año, usando la función creada\n",
    "\n",
    "df_steam_games['year_developed'] = df_steam_games['release_date'].apply(get_year).astype('Int64')"
   ]
  },
  {
   "cell_type": "code",
   "execution_count": 5,
   "metadata": {},
   "outputs": [
    {
     "data": {
      "text/html": [
       "<div>\n",
       "<style scoped>\n",
       "    .dataframe tbody tr th:only-of-type {\n",
       "        vertical-align: middle;\n",
       "    }\n",
       "\n",
       "    .dataframe tbody tr th {\n",
       "        vertical-align: top;\n",
       "    }\n",
       "\n",
       "    .dataframe thead th {\n",
       "        text-align: right;\n",
       "    }\n",
       "</style>\n",
       "<table border=\"1\" class=\"dataframe\">\n",
       "  <thead>\n",
       "    <tr style=\"text-align: right;\">\n",
       "      <th></th>\n",
       "      <th>Unnamed: 0</th>\n",
       "      <th>publisher</th>\n",
       "      <th>genres</th>\n",
       "      <th>app_name</th>\n",
       "      <th>title</th>\n",
       "      <th>url</th>\n",
       "      <th>release_date</th>\n",
       "      <th>tags</th>\n",
       "      <th>reviews_url</th>\n",
       "      <th>specs</th>\n",
       "      <th>price</th>\n",
       "      <th>early_access</th>\n",
       "      <th>id</th>\n",
       "      <th>developer</th>\n",
       "      <th>year_developed</th>\n",
       "    </tr>\n",
       "  </thead>\n",
       "  <tbody>\n",
       "    <tr>\n",
       "      <th>0</th>\n",
       "      <td>88310</td>\n",
       "      <td>Kotoshiro</td>\n",
       "      <td>['Action', 'Casual', 'Indie', 'Simulation', 'S...</td>\n",
       "      <td>Lost Summoner Kitty</td>\n",
       "      <td>Lost Summoner Kitty</td>\n",
       "      <td>http://store.steampowered.com/app/761140/Lost_...</td>\n",
       "      <td>2018-01-04</td>\n",
       "      <td>['Strategy', 'Action', 'Indie', 'Casual', 'Sim...</td>\n",
       "      <td>http://steamcommunity.com/app/761140/reviews/?...</td>\n",
       "      <td>['Single-player']</td>\n",
       "      <td>4.99</td>\n",
       "      <td>0.0</td>\n",
       "      <td>761140.0</td>\n",
       "      <td>Kotoshiro</td>\n",
       "      <td>2018</td>\n",
       "    </tr>\n",
       "  </tbody>\n",
       "</table>\n",
       "</div>"
      ],
      "text/plain": [
       "   Unnamed: 0  publisher                                             genres  \\\n",
       "0       88310  Kotoshiro  ['Action', 'Casual', 'Indie', 'Simulation', 'S...   \n",
       "\n",
       "              app_name                title  \\\n",
       "0  Lost Summoner Kitty  Lost Summoner Kitty   \n",
       "\n",
       "                                                 url release_date  \\\n",
       "0  http://store.steampowered.com/app/761140/Lost_...   2018-01-04   \n",
       "\n",
       "                                                tags  \\\n",
       "0  ['Strategy', 'Action', 'Indie', 'Casual', 'Sim...   \n",
       "\n",
       "                                         reviews_url              specs  \\\n",
       "0  http://steamcommunity.com/app/761140/reviews/?...  ['Single-player']   \n",
       "\n",
       "   price  early_access        id  developer  year_developed  \n",
       "0   4.99           0.0  761140.0  Kotoshiro            2018  "
      ]
     },
     "execution_count": 5,
     "metadata": {},
     "output_type": "execute_result"
    }
   ],
   "source": [
    "# Muestro como quedo el dataframe\n",
    "df_steam_games.head(1)"
   ]
  },
  {
   "cell_type": "code",
   "execution_count": 8,
   "metadata": {},
   "outputs": [],
   "source": [
    "# Exporto a CSV el dataframe completo\n",
    "\n",
    "df_steam_games.to_csv('/Users/mlucchesi/Henry/PI/data/csv/procesados/steam_games_year.csv', index=False)"
   ]
  },
  {
   "cell_type": "markdown",
   "metadata": {},
   "source": [
    "### Archivo ```user_reviews```"
   ]
  },
  {
   "cell_type": "code",
   "execution_count": 10,
   "metadata": {},
   "outputs": [],
   "source": [
    "# Creo una función que extraiga el año de la fecha de posteo de la review\n",
    "\n",
    "def get_year_reviews(posted):\n",
    "    match = re.search(r'\\d{4}', posted)  \n",
    "    if match:\n",
    "        return match.group()\n",
    "    else:\n",
    "        return None \n",
    "\n",
    "df_user_reviews['year_review'] = df_user_reviews['posted'].apply(get_year_reviews)"
   ]
  },
  {
   "cell_type": "code",
   "execution_count": 11,
   "metadata": {},
   "outputs": [
    {
     "data": {
      "text/html": [
       "<div>\n",
       "<style scoped>\n",
       "    .dataframe tbody tr th:only-of-type {\n",
       "        vertical-align: middle;\n",
       "    }\n",
       "\n",
       "    .dataframe tbody tr th {\n",
       "        vertical-align: top;\n",
       "    }\n",
       "\n",
       "    .dataframe thead th {\n",
       "        text-align: right;\n",
       "    }\n",
       "</style>\n",
       "<table border=\"1\" class=\"dataframe\">\n",
       "  <thead>\n",
       "    <tr style=\"text-align: right;\">\n",
       "      <th></th>\n",
       "      <th>Unnamed: 0</th>\n",
       "      <th>user_id</th>\n",
       "      <th>user_url</th>\n",
       "      <th>posted</th>\n",
       "      <th>item_id</th>\n",
       "      <th>helpful</th>\n",
       "      <th>recommend</th>\n",
       "      <th>sentiment_analysis</th>\n",
       "      <th>year_review</th>\n",
       "    </tr>\n",
       "  </thead>\n",
       "  <tbody>\n",
       "    <tr>\n",
       "      <th>0</th>\n",
       "      <td>0</td>\n",
       "      <td>76561197970982479</td>\n",
       "      <td>http://steamcommunity.com/profiles/76561197970...</td>\n",
       "      <td>Posted November 5, 2011.</td>\n",
       "      <td>1250</td>\n",
       "      <td>No ratings yet</td>\n",
       "      <td>True</td>\n",
       "      <td>2</td>\n",
       "      <td>2011</td>\n",
       "    </tr>\n",
       "    <tr>\n",
       "      <th>1</th>\n",
       "      <td>1</td>\n",
       "      <td>js41637</td>\n",
       "      <td>http://steamcommunity.com/id/js41637</td>\n",
       "      <td>Posted June 24, 2014.</td>\n",
       "      <td>251610</td>\n",
       "      <td>15 of 20 people (75%) found this review helpful</td>\n",
       "      <td>True</td>\n",
       "      <td>2</td>\n",
       "      <td>2014</td>\n",
       "    </tr>\n",
       "    <tr>\n",
       "      <th>2</th>\n",
       "      <td>2</td>\n",
       "      <td>evcentric</td>\n",
       "      <td>http://steamcommunity.com/id/evcentric</td>\n",
       "      <td>Posted February 3.</td>\n",
       "      <td>248820</td>\n",
       "      <td>No ratings yet</td>\n",
       "      <td>True</td>\n",
       "      <td>2</td>\n",
       "      <td>None</td>\n",
       "    </tr>\n",
       "    <tr>\n",
       "      <th>3</th>\n",
       "      <td>3</td>\n",
       "      <td>doctr</td>\n",
       "      <td>http://steamcommunity.com/id/doctr</td>\n",
       "      <td>Posted October 14, 2013.</td>\n",
       "      <td>250320</td>\n",
       "      <td>2 of 2 people (100%) found this review helpful</td>\n",
       "      <td>True</td>\n",
       "      <td>2</td>\n",
       "      <td>2013</td>\n",
       "    </tr>\n",
       "    <tr>\n",
       "      <th>4</th>\n",
       "      <td>4</td>\n",
       "      <td>maplemage</td>\n",
       "      <td>http://steamcommunity.com/id/maplemage</td>\n",
       "      <td>Posted April 15, 2014.</td>\n",
       "      <td>211420</td>\n",
       "      <td>35 of 43 people (81%) found this review helpful</td>\n",
       "      <td>True</td>\n",
       "      <td>1</td>\n",
       "      <td>2014</td>\n",
       "    </tr>\n",
       "  </tbody>\n",
       "</table>\n",
       "</div>"
      ],
      "text/plain": [
       "   Unnamed: 0            user_id  \\\n",
       "0           0  76561197970982479   \n",
       "1           1            js41637   \n",
       "2           2          evcentric   \n",
       "3           3              doctr   \n",
       "4           4          maplemage   \n",
       "\n",
       "                                            user_url  \\\n",
       "0  http://steamcommunity.com/profiles/76561197970...   \n",
       "1               http://steamcommunity.com/id/js41637   \n",
       "2             http://steamcommunity.com/id/evcentric   \n",
       "3                 http://steamcommunity.com/id/doctr   \n",
       "4             http://steamcommunity.com/id/maplemage   \n",
       "\n",
       "                     posted  item_id  \\\n",
       "0  Posted November 5, 2011.     1250   \n",
       "1     Posted June 24, 2014.   251610   \n",
       "2        Posted February 3.   248820   \n",
       "3  Posted October 14, 2013.   250320   \n",
       "4    Posted April 15, 2014.   211420   \n",
       "\n",
       "                                           helpful  recommend  \\\n",
       "0                                   No ratings yet       True   \n",
       "1  15 of 20 people (75%) found this review helpful       True   \n",
       "2                                   No ratings yet       True   \n",
       "3   2 of 2 people (100%) found this review helpful       True   \n",
       "4  35 of 43 people (81%) found this review helpful       True   \n",
       "\n",
       "   sentiment_analysis year_review  \n",
       "0                   2        2011  \n",
       "1                   2        2014  \n",
       "2                   2        None  \n",
       "3                   2        2013  \n",
       "4                   1        2014  "
      ]
     },
     "execution_count": 11,
     "metadata": {},
     "output_type": "execute_result"
    }
   ],
   "source": [
    "# Muestro como quedó\n",
    "\n",
    "df_user_reviews.head()"
   ]
  },
  {
   "cell_type": "code",
   "execution_count": 12,
   "metadata": {},
   "outputs": [
    {
     "name": "stdout",
     "output_type": "stream",
     "text": [
      "[ True]\n"
     ]
    }
   ],
   "source": [
    "print(df_user_reviews['recommend'].unique())"
   ]
  },
  {
   "cell_type": "markdown",
   "metadata": {},
   "source": [
    "## Funciones"
   ]
  },
  {
   "cell_type": "markdown",
   "metadata": {},
   "source": [
    "### ```UsersNotRecommend```\n",
    "_Devuelve el top 3 de juegos MENOS recomendados por usuarios para el año dado. (reviews.recommend = False y comentarios negativos)_"
   ]
  },
  {
   "cell_type": "code",
   "execution_count": 14,
   "metadata": {},
   "outputs": [
    {
     "data": {
      "text/html": [
       "<div>\n",
       "<style scoped>\n",
       "    .dataframe tbody tr th:only-of-type {\n",
       "        vertical-align: middle;\n",
       "    }\n",
       "\n",
       "    .dataframe tbody tr th {\n",
       "        vertical-align: top;\n",
       "    }\n",
       "\n",
       "    .dataframe thead th {\n",
       "        text-align: right;\n",
       "    }\n",
       "</style>\n",
       "<table border=\"1\" class=\"dataframe\">\n",
       "  <thead>\n",
       "    <tr style=\"text-align: right;\">\n",
       "      <th></th>\n",
       "      <th>app_name</th>\n",
       "      <th>id</th>\n",
       "    </tr>\n",
       "  </thead>\n",
       "  <tbody>\n",
       "    <tr>\n",
       "      <th>0</th>\n",
       "      <td>Lost Summoner Kitty</td>\n",
       "      <td>761140.0</td>\n",
       "    </tr>\n",
       "    <tr>\n",
       "      <th>1</th>\n",
       "      <td>Ironbound</td>\n",
       "      <td>643980.0</td>\n",
       "    </tr>\n",
       "    <tr>\n",
       "      <th>2</th>\n",
       "      <td>Real Pool 3D - Poolians</td>\n",
       "      <td>670290.0</td>\n",
       "    </tr>\n",
       "    <tr>\n",
       "      <th>3</th>\n",
       "      <td>弹炸人2222</td>\n",
       "      <td>767400.0</td>\n",
       "    </tr>\n",
       "    <tr>\n",
       "      <th>4</th>\n",
       "      <td>Log Challenge</td>\n",
       "      <td>773570.0</td>\n",
       "    </tr>\n",
       "  </tbody>\n",
       "</table>\n",
       "</div>"
      ],
      "text/plain": [
       "                  app_name        id\n",
       "0      Lost Summoner Kitty  761140.0\n",
       "1                Ironbound  643980.0\n",
       "2  Real Pool 3D - Poolians  670290.0\n",
       "3                  弹炸人2222  767400.0\n",
       "4            Log Challenge  773570.0"
      ]
     },
     "execution_count": 14,
     "metadata": {},
     "output_type": "execute_result"
    }
   ],
   "source": [
    "# Para optimizar, se extraen solo las columnas necesarias para hacer el merge\n",
    "\n",
    "# Primero, se obtiene el app_name y su respectivo 'id'\n",
    "\n",
    "df_game_id = df_steam_games[['app_name', 'id']]\n",
    "df_game_id.head()"
   ]
  },
  {
   "cell_type": "code",
   "execution_count": 15,
   "metadata": {},
   "outputs": [
    {
     "data": {
      "text/html": [
       "<div>\n",
       "<style scoped>\n",
       "    .dataframe tbody tr th:only-of-type {\n",
       "        vertical-align: middle;\n",
       "    }\n",
       "\n",
       "    .dataframe tbody tr th {\n",
       "        vertical-align: top;\n",
       "    }\n",
       "\n",
       "    .dataframe thead th {\n",
       "        text-align: right;\n",
       "    }\n",
       "</style>\n",
       "<table border=\"1\" class=\"dataframe\">\n",
       "  <thead>\n",
       "    <tr style=\"text-align: right;\">\n",
       "      <th></th>\n",
       "      <th>item_id</th>\n",
       "      <th>recommend</th>\n",
       "      <th>sentiment_analysis</th>\n",
       "      <th>year_review</th>\n",
       "    </tr>\n",
       "  </thead>\n",
       "  <tbody>\n",
       "    <tr>\n",
       "      <th>0</th>\n",
       "      <td>1250</td>\n",
       "      <td>True</td>\n",
       "      <td>2</td>\n",
       "      <td>2011</td>\n",
       "    </tr>\n",
       "    <tr>\n",
       "      <th>1</th>\n",
       "      <td>251610</td>\n",
       "      <td>True</td>\n",
       "      <td>2</td>\n",
       "      <td>2014</td>\n",
       "    </tr>\n",
       "    <tr>\n",
       "      <th>2</th>\n",
       "      <td>248820</td>\n",
       "      <td>True</td>\n",
       "      <td>2</td>\n",
       "      <td>None</td>\n",
       "    </tr>\n",
       "    <tr>\n",
       "      <th>3</th>\n",
       "      <td>250320</td>\n",
       "      <td>True</td>\n",
       "      <td>2</td>\n",
       "      <td>2013</td>\n",
       "    </tr>\n",
       "    <tr>\n",
       "      <th>4</th>\n",
       "      <td>211420</td>\n",
       "      <td>True</td>\n",
       "      <td>1</td>\n",
       "      <td>2014</td>\n",
       "    </tr>\n",
       "  </tbody>\n",
       "</table>\n",
       "</div>"
      ],
      "text/plain": [
       "   item_id  recommend  sentiment_analysis year_review\n",
       "0     1250       True                   2        2011\n",
       "1   251610       True                   2        2014\n",
       "2   248820       True                   2        None\n",
       "3   250320       True                   2        2013\n",
       "4   211420       True                   1        2014"
      ]
     },
     "execution_count": 15,
     "metadata": {},
     "output_type": "execute_result"
    }
   ],
   "source": [
    "# Luego, se obtiene el 'id' de juego, el año de posteo de la review, y aquellos que fueron negativos (recommend = False y sentiment analysis = 0)\n",
    "\n",
    "df_reviews_negativas = df_user_reviews[['item_id', 'recommend', 'sentiment_analysis', 'year_review']]\n",
    "df_reviews_negativas.head()"
   ]
  },
  {
   "cell_type": "code",
   "execution_count": 16,
   "metadata": {},
   "outputs": [
    {
     "data": {
      "text/html": [
       "<div>\n",
       "<style scoped>\n",
       "    .dataframe tbody tr th:only-of-type {\n",
       "        vertical-align: middle;\n",
       "    }\n",
       "\n",
       "    .dataframe tbody tr th {\n",
       "        vertical-align: top;\n",
       "    }\n",
       "\n",
       "    .dataframe thead th {\n",
       "        text-align: right;\n",
       "    }\n",
       "</style>\n",
       "<table border=\"1\" class=\"dataframe\">\n",
       "  <thead>\n",
       "    <tr style=\"text-align: right;\">\n",
       "      <th></th>\n",
       "      <th>app_name</th>\n",
       "      <th>item_id</th>\n",
       "    </tr>\n",
       "  </thead>\n",
       "  <tbody>\n",
       "    <tr>\n",
       "      <th>0</th>\n",
       "      <td>Lost Summoner Kitty</td>\n",
       "      <td>761140.0</td>\n",
       "    </tr>\n",
       "    <tr>\n",
       "      <th>1</th>\n",
       "      <td>Ironbound</td>\n",
       "      <td>643980.0</td>\n",
       "    </tr>\n",
       "    <tr>\n",
       "      <th>2</th>\n",
       "      <td>Real Pool 3D - Poolians</td>\n",
       "      <td>670290.0</td>\n",
       "    </tr>\n",
       "    <tr>\n",
       "      <th>3</th>\n",
       "      <td>弹炸人2222</td>\n",
       "      <td>767400.0</td>\n",
       "    </tr>\n",
       "    <tr>\n",
       "      <th>4</th>\n",
       "      <td>Log Challenge</td>\n",
       "      <td>773570.0</td>\n",
       "    </tr>\n",
       "  </tbody>\n",
       "</table>\n",
       "</div>"
      ],
      "text/plain": [
       "                  app_name   item_id\n",
       "0      Lost Summoner Kitty  761140.0\n",
       "1                Ironbound  643980.0\n",
       "2  Real Pool 3D - Poolians  670290.0\n",
       "3                  弹炸人2222  767400.0\n",
       "4            Log Challenge  773570.0"
      ]
     },
     "execution_count": 16,
     "metadata": {},
     "output_type": "execute_result"
    }
   ],
   "source": [
    "# Como se van a unir por id de juego, hay que renombrar las columnas para que coincidan\n",
    "\n",
    "# En el df de los juegos, se cambia 'id' por 'item_id'\n",
    "\n",
    "df_game_id = df_game_id.rename(columns={'id': 'item_id'})\n",
    "df_game_id.head()"
   ]
  },
  {
   "cell_type": "code",
   "execution_count": 17,
   "metadata": {},
   "outputs": [
    {
     "data": {
      "text/html": [
       "<div>\n",
       "<style scoped>\n",
       "    .dataframe tbody tr th:only-of-type {\n",
       "        vertical-align: middle;\n",
       "    }\n",
       "\n",
       "    .dataframe tbody tr th {\n",
       "        vertical-align: top;\n",
       "    }\n",
       "\n",
       "    .dataframe thead th {\n",
       "        text-align: right;\n",
       "    }\n",
       "</style>\n",
       "<table border=\"1\" class=\"dataframe\">\n",
       "  <thead>\n",
       "    <tr style=\"text-align: right;\">\n",
       "      <th></th>\n",
       "      <th>app_name</th>\n",
       "      <th>item_id</th>\n",
       "      <th>recommend</th>\n",
       "      <th>sentiment_analysis</th>\n",
       "      <th>year_review</th>\n",
       "    </tr>\n",
       "  </thead>\n",
       "  <tbody>\n",
       "    <tr>\n",
       "      <th>0</th>\n",
       "      <td>Killing Floor</td>\n",
       "      <td>1250.0</td>\n",
       "      <td>True</td>\n",
       "      <td>2</td>\n",
       "      <td>2011</td>\n",
       "    </tr>\n",
       "    <tr>\n",
       "      <th>1</th>\n",
       "      <td>NaN</td>\n",
       "      <td>251610.0</td>\n",
       "      <td>True</td>\n",
       "      <td>2</td>\n",
       "      <td>2014</td>\n",
       "    </tr>\n",
       "    <tr>\n",
       "      <th>2</th>\n",
       "      <td>Risk of Rain</td>\n",
       "      <td>248820.0</td>\n",
       "      <td>True</td>\n",
       "      <td>2</td>\n",
       "      <td>None</td>\n",
       "    </tr>\n",
       "    <tr>\n",
       "      <th>3</th>\n",
       "      <td>The Wolf Among Us</td>\n",
       "      <td>250320.0</td>\n",
       "      <td>True</td>\n",
       "      <td>2</td>\n",
       "      <td>2013</td>\n",
       "    </tr>\n",
       "    <tr>\n",
       "      <th>4</th>\n",
       "      <td>DARK SOULS™: Prepare To Die™ Edition</td>\n",
       "      <td>211420.0</td>\n",
       "      <td>True</td>\n",
       "      <td>1</td>\n",
       "      <td>2014</td>\n",
       "    </tr>\n",
       "    <tr>\n",
       "      <th>...</th>\n",
       "      <td>...</td>\n",
       "      <td>...</td>\n",
       "      <td>...</td>\n",
       "      <td>...</td>\n",
       "      <td>...</td>\n",
       "    </tr>\n",
       "    <tr>\n",
       "      <th>55827</th>\n",
       "      <td>PlanetSide 2</td>\n",
       "      <td>218230.0</td>\n",
       "      <td>True</td>\n",
       "      <td>2</td>\n",
       "      <td>2015</td>\n",
       "    </tr>\n",
       "    <tr>\n",
       "      <th>55828</th>\n",
       "      <td>Millie</td>\n",
       "      <td>294230.0</td>\n",
       "      <td>True</td>\n",
       "      <td>1</td>\n",
       "      <td>2015</td>\n",
       "    </tr>\n",
       "    <tr>\n",
       "      <th>55829</th>\n",
       "      <td>Counter-Strike Nexon: Zombies</td>\n",
       "      <td>273110.0</td>\n",
       "      <td>True</td>\n",
       "      <td>1</td>\n",
       "      <td>2015</td>\n",
       "    </tr>\n",
       "    <tr>\n",
       "      <th>55830</th>\n",
       "      <td>Who's Your Daddy</td>\n",
       "      <td>427730.0</td>\n",
       "      <td>True</td>\n",
       "      <td>1</td>\n",
       "      <td>None</td>\n",
       "    </tr>\n",
       "    <tr>\n",
       "      <th>55831</th>\n",
       "      <td>Scrap Mechanic</td>\n",
       "      <td>387990.0</td>\n",
       "      <td>True</td>\n",
       "      <td>1</td>\n",
       "      <td>None</td>\n",
       "    </tr>\n",
       "  </tbody>\n",
       "</table>\n",
       "<p>55832 rows × 5 columns</p>\n",
       "</div>"
      ],
      "text/plain": [
       "                                   app_name   item_id  recommend  \\\n",
       "0                             Killing Floor    1250.0       True   \n",
       "1                                       NaN  251610.0       True   \n",
       "2                              Risk of Rain  248820.0       True   \n",
       "3                         The Wolf Among Us  250320.0       True   \n",
       "4      DARK SOULS™: Prepare To Die™ Edition  211420.0       True   \n",
       "...                                     ...       ...        ...   \n",
       "55827                          PlanetSide 2  218230.0       True   \n",
       "55828                                Millie  294230.0       True   \n",
       "55829         Counter-Strike Nexon: Zombies  273110.0       True   \n",
       "55830                      Who's Your Daddy  427730.0       True   \n",
       "55831                        Scrap Mechanic  387990.0       True   \n",
       "\n",
       "       sentiment_analysis year_review  \n",
       "0                       2        2011  \n",
       "1                       2        2014  \n",
       "2                       2        None  \n",
       "3                       2        2013  \n",
       "4                       1        2014  \n",
       "...                   ...         ...  \n",
       "55827                   2        2015  \n",
       "55828                   1        2015  \n",
       "55829                   1        2015  \n",
       "55830                   1        None  \n",
       "55831                   1        None  \n",
       "\n",
       "[55832 rows x 5 columns]"
      ]
     },
     "execution_count": 17,
     "metadata": {},
     "output_type": "execute_result"
    }
   ],
   "source": [
    "# Se mergean los dataframes\n",
    "\n",
    "df_game_negative_review = df_game_id.merge(df_reviews_negativas, on='item_id', how='right')\n",
    "df_game_negative_review"
   ]
  },
  {
   "cell_type": "code",
   "execution_count": 18,
   "metadata": {},
   "outputs": [],
   "source": [
    "# Se exporta a un CSV\n",
    "\n",
    "df_game_negative_review.to_csv('/Users/mlucchesi/Henry/PI/data/csv/procesados/game_negative_review.csv')"
   ]
  },
  {
   "cell_type": "code",
   "execution_count": 19,
   "metadata": {},
   "outputs": [
    {
     "name": "stdout",
     "output_type": "stream",
     "text": [
      "<class 'pandas.core.frame.DataFrame'>\n",
      "RangeIndex: 55832 entries, 0 to 55831\n",
      "Data columns (total 5 columns):\n",
      " #   Column              Non-Null Count  Dtype  \n",
      "---  ------              --------------  -----  \n",
      " 0   app_name            50207 non-null  object \n",
      " 1   item_id             55832 non-null  float64\n",
      " 2   recommend           55832 non-null  bool   \n",
      " 3   sentiment_analysis  55832 non-null  int64  \n",
      " 4   year_review         46101 non-null  object \n",
      "dtypes: bool(1), float64(1), int64(1), object(2)\n",
      "memory usage: 1.8+ MB\n"
     ]
    }
   ],
   "source": [
    "df_game_negative_review.info()"
   ]
  },
  {
   "cell_type": "code",
   "execution_count": 20,
   "metadata": {},
   "outputs": [],
   "source": [
    "# Llena los valores None en la columna 'year_review' con 0\n",
    "df_game_negative_review['year_review'] = df_game_negative_review['year_review'].fillna(0)\n",
    "\n",
    "# Convierte la columna 'year_review' a tipo de datos int\n",
    "df_game_negative_review['year_review'] = df_game_negative_review['year_review'].astype(int)"
   ]
  },
  {
   "cell_type": "code",
   "execution_count": 21,
   "metadata": {},
   "outputs": [],
   "source": [
    "# Se define la función\n",
    "\n",
    "def UsersNotRecommend(year: int):\n",
    "    df_filtrado = df_game_negative_review[(df_game_negative_review['year_review'] == year) &\n",
    "                                               (df_game_negative_review['sentiment_analysis'] == 0)]\n",
    "\n",
    "    if df_filtrado.empty:\n",
    "        return None\n",
    "\n",
    "    peores_games = df_filtrado.groupby('app_name')['recommend'].sum().sort_values(ascending=False).head(3)\n",
    "\n",
    "    result = [{\"Top {}\".format(i + 1): app_name} for i, (app_name, _) in enumerate(peores_games.items())]\n",
    "\n",
    "    return result"
   ]
  },
  {
   "cell_type": "code",
   "execution_count": 22,
   "metadata": {},
   "outputs": [
    {
     "data": {
      "text/plain": [
       "[{'Top 1': 'Team Fortress 2'},\n",
       " {'Top 2': 'Counter-Strike: Global Offensive'},\n",
       " {'Top 3': \"Garry's Mod\"}]"
      ]
     },
     "execution_count": 22,
     "metadata": {},
     "output_type": "execute_result"
    }
   ],
   "source": [
    "# Probamos la función\n",
    "\n",
    "UsersNotRecommend(2014)"
   ]
  },
  {
   "cell_type": "markdown",
   "metadata": {},
   "source": [
    "### ```sentiment_analysis```\n",
    "_Según el año de lanzamiento, se devuelve una lista con la cantidad de registros de reseñas de usuarios que se encuentren categorizados con un análisis de sentimiento._"
   ]
  },
  {
   "cell_type": "code",
   "execution_count": 23,
   "metadata": {},
   "outputs": [
    {
     "data": {
      "text/html": [
       "<div>\n",
       "<style scoped>\n",
       "    .dataframe tbody tr th:only-of-type {\n",
       "        vertical-align: middle;\n",
       "    }\n",
       "\n",
       "    .dataframe tbody tr th {\n",
       "        vertical-align: top;\n",
       "    }\n",
       "\n",
       "    .dataframe thead th {\n",
       "        text-align: right;\n",
       "    }\n",
       "</style>\n",
       "<table border=\"1\" class=\"dataframe\">\n",
       "  <thead>\n",
       "    <tr style=\"text-align: right;\">\n",
       "      <th></th>\n",
       "      <th>item_id</th>\n",
       "      <th>sentiment_analysis</th>\n",
       "    </tr>\n",
       "  </thead>\n",
       "  <tbody>\n",
       "    <tr>\n",
       "      <th>0</th>\n",
       "      <td>1250</td>\n",
       "      <td>2</td>\n",
       "    </tr>\n",
       "    <tr>\n",
       "      <th>1</th>\n",
       "      <td>251610</td>\n",
       "      <td>2</td>\n",
       "    </tr>\n",
       "    <tr>\n",
       "      <th>2</th>\n",
       "      <td>248820</td>\n",
       "      <td>2</td>\n",
       "    </tr>\n",
       "    <tr>\n",
       "      <th>3</th>\n",
       "      <td>250320</td>\n",
       "      <td>2</td>\n",
       "    </tr>\n",
       "    <tr>\n",
       "      <th>4</th>\n",
       "      <td>211420</td>\n",
       "      <td>1</td>\n",
       "    </tr>\n",
       "  </tbody>\n",
       "</table>\n",
       "</div>"
      ],
      "text/plain": [
       "   item_id  sentiment_analysis\n",
       "0     1250                   2\n",
       "1   251610                   2\n",
       "2   248820                   2\n",
       "3   250320                   2\n",
       "4   211420                   1"
      ]
     },
     "execution_count": 23,
     "metadata": {},
     "output_type": "execute_result"
    }
   ],
   "source": [
    "# Para optimizar, se extraen solo las columnas necesarias para hacer el merge\n",
    "\n",
    "# Primero, se obtiene el id del juego con 'sentiment_analysis'\n",
    "\n",
    "df_id_sentiment = df_user_reviews [['item_id', 'sentiment_analysis']]\n",
    "df_id_sentiment.head()"
   ]
  },
  {
   "cell_type": "code",
   "execution_count": 24,
   "metadata": {},
   "outputs": [
    {
     "data": {
      "text/html": [
       "<div>\n",
       "<style scoped>\n",
       "    .dataframe tbody tr th:only-of-type {\n",
       "        vertical-align: middle;\n",
       "    }\n",
       "\n",
       "    .dataframe tbody tr th {\n",
       "        vertical-align: top;\n",
       "    }\n",
       "\n",
       "    .dataframe thead th {\n",
       "        text-align: right;\n",
       "    }\n",
       "</style>\n",
       "<table border=\"1\" class=\"dataframe\">\n",
       "  <thead>\n",
       "    <tr style=\"text-align: right;\">\n",
       "      <th></th>\n",
       "      <th>id</th>\n",
       "      <th>year_developed</th>\n",
       "    </tr>\n",
       "  </thead>\n",
       "  <tbody>\n",
       "    <tr>\n",
       "      <th>0</th>\n",
       "      <td>761140.0</td>\n",
       "      <td>2018</td>\n",
       "    </tr>\n",
       "    <tr>\n",
       "      <th>1</th>\n",
       "      <td>643980.0</td>\n",
       "      <td>2018</td>\n",
       "    </tr>\n",
       "    <tr>\n",
       "      <th>2</th>\n",
       "      <td>670290.0</td>\n",
       "      <td>2017</td>\n",
       "    </tr>\n",
       "    <tr>\n",
       "      <th>3</th>\n",
       "      <td>767400.0</td>\n",
       "      <td>2017</td>\n",
       "    </tr>\n",
       "    <tr>\n",
       "      <th>4</th>\n",
       "      <td>773570.0</td>\n",
       "      <td>&lt;NA&gt;</td>\n",
       "    </tr>\n",
       "  </tbody>\n",
       "</table>\n",
       "</div>"
      ],
      "text/plain": [
       "         id  year_developed\n",
       "0  761140.0            2018\n",
       "1  643980.0            2018\n",
       "2  670290.0            2017\n",
       "3  767400.0            2017\n",
       "4  773570.0            <NA>"
      ]
     },
     "execution_count": 24,
     "metadata": {},
     "output_type": "execute_result"
    }
   ],
   "source": [
    "# Lo mismo, para el dataframe de steam_games\n",
    "\n",
    "df_id_yeardev = df_steam_games[['id', 'year_developed']]\n",
    "df_id_yeardev.head()"
   ]
  },
  {
   "cell_type": "code",
   "execution_count": 25,
   "metadata": {},
   "outputs": [
    {
     "data": {
      "text/html": [
       "<div>\n",
       "<style scoped>\n",
       "    .dataframe tbody tr th:only-of-type {\n",
       "        vertical-align: middle;\n",
       "    }\n",
       "\n",
       "    .dataframe tbody tr th {\n",
       "        vertical-align: top;\n",
       "    }\n",
       "\n",
       "    .dataframe thead th {\n",
       "        text-align: right;\n",
       "    }\n",
       "</style>\n",
       "<table border=\"1\" class=\"dataframe\">\n",
       "  <thead>\n",
       "    <tr style=\"text-align: right;\">\n",
       "      <th></th>\n",
       "      <th>item_id</th>\n",
       "      <th>year_developed</th>\n",
       "    </tr>\n",
       "  </thead>\n",
       "  <tbody>\n",
       "    <tr>\n",
       "      <th>0</th>\n",
       "      <td>761140.0</td>\n",
       "      <td>2018</td>\n",
       "    </tr>\n",
       "    <tr>\n",
       "      <th>1</th>\n",
       "      <td>643980.0</td>\n",
       "      <td>2018</td>\n",
       "    </tr>\n",
       "    <tr>\n",
       "      <th>2</th>\n",
       "      <td>670290.0</td>\n",
       "      <td>2017</td>\n",
       "    </tr>\n",
       "    <tr>\n",
       "      <th>3</th>\n",
       "      <td>767400.0</td>\n",
       "      <td>2017</td>\n",
       "    </tr>\n",
       "    <tr>\n",
       "      <th>4</th>\n",
       "      <td>773570.0</td>\n",
       "      <td>&lt;NA&gt;</td>\n",
       "    </tr>\n",
       "  </tbody>\n",
       "</table>\n",
       "</div>"
      ],
      "text/plain": [
       "    item_id  year_developed\n",
       "0  761140.0            2018\n",
       "1  643980.0            2018\n",
       "2  670290.0            2017\n",
       "3  767400.0            2017\n",
       "4  773570.0            <NA>"
      ]
     },
     "execution_count": 25,
     "metadata": {},
     "output_type": "execute_result"
    }
   ],
   "source": [
    "# Como se van a unir por id de juego, hay que renombrar las columnas para que coincidan\n",
    "\n",
    "# En el df de los developers, se cambia 'id' por 'item_id'\n",
    "\n",
    "df_id_yeardev = df_id_yeardev.rename(columns={'id': 'item_id'})\n",
    "df_id_yeardev.head()"
   ]
  },
  {
   "cell_type": "code",
   "execution_count": 26,
   "metadata": {},
   "outputs": [
    {
     "data": {
      "text/html": [
       "<div>\n",
       "<style scoped>\n",
       "    .dataframe tbody tr th:only-of-type {\n",
       "        vertical-align: middle;\n",
       "    }\n",
       "\n",
       "    .dataframe tbody tr th {\n",
       "        vertical-align: top;\n",
       "    }\n",
       "\n",
       "    .dataframe thead th {\n",
       "        text-align: right;\n",
       "    }\n",
       "</style>\n",
       "<table border=\"1\" class=\"dataframe\">\n",
       "  <thead>\n",
       "    <tr style=\"text-align: right;\">\n",
       "      <th></th>\n",
       "      <th>item_id</th>\n",
       "      <th>year_developed</th>\n",
       "      <th>sentiment_analysis</th>\n",
       "    </tr>\n",
       "  </thead>\n",
       "  <tbody>\n",
       "    <tr>\n",
       "      <th>0</th>\n",
       "      <td>1250.0</td>\n",
       "      <td>2009</td>\n",
       "      <td>2</td>\n",
       "    </tr>\n",
       "    <tr>\n",
       "      <th>1</th>\n",
       "      <td>251610.0</td>\n",
       "      <td>&lt;NA&gt;</td>\n",
       "      <td>2</td>\n",
       "    </tr>\n",
       "    <tr>\n",
       "      <th>2</th>\n",
       "      <td>248820.0</td>\n",
       "      <td>2013</td>\n",
       "      <td>2</td>\n",
       "    </tr>\n",
       "    <tr>\n",
       "      <th>3</th>\n",
       "      <td>250320.0</td>\n",
       "      <td>2013</td>\n",
       "      <td>2</td>\n",
       "    </tr>\n",
       "    <tr>\n",
       "      <th>4</th>\n",
       "      <td>211420.0</td>\n",
       "      <td>2012</td>\n",
       "      <td>1</td>\n",
       "    </tr>\n",
       "  </tbody>\n",
       "</table>\n",
       "</div>"
      ],
      "text/plain": [
       "    item_id  year_developed  sentiment_analysis\n",
       "0    1250.0            2009                   2\n",
       "1  251610.0            <NA>                   2\n",
       "2  248820.0            2013                   2\n",
       "3  250320.0            2013                   2\n",
       "4  211420.0            2012                   1"
      ]
     },
     "execution_count": 26,
     "metadata": {},
     "output_type": "execute_result"
    }
   ],
   "source": [
    "# Se mergean los dataframes\n",
    "\n",
    "df_id_yeardev_sentiment = df_id_yeardev.merge(df_id_sentiment, on='item_id', how='right')\n",
    "df_id_yeardev_sentiment.head()"
   ]
  },
  {
   "cell_type": "code",
   "execution_count": 34,
   "metadata": {},
   "outputs": [],
   "source": [
    "# Se define la función\n",
    "\n",
    "def sentiment_analysis(year: int):\n",
    "    df_filtrado = df_id_yeardev_sentiment[df_id_yeardev_sentiment['year_developed'] == year] \n",
    "\n",
    "    if df_filtrado.empty:\n",
    "        return None\n",
    "    \n",
    "    count_sentiment_analysis = df_filtrado.groupby('sentiment_analysis').size().to_dict()\n",
    "\n",
    "    resultado = [f'Negative = {count_sentiment_analysis.get(0, 0)}', f'Positive = {count_sentiment_analysis.get(2, 0)}']\n",
    "\n",
    "    return resultado\n"
   ]
  },
  {
   "cell_type": "code",
   "execution_count": 35,
   "metadata": {},
   "outputs": [
    {
     "data": {
      "text/plain": [
       "['Negative = 1405', 'Positive = 3352']"
      ]
     },
     "execution_count": 35,
     "metadata": {},
     "output_type": "execute_result"
    }
   ],
   "source": [
    "# Pruebo la función\n",
    "\n",
    "sentiment_analysis(2014)"
   ]
  },
  {
   "cell_type": "markdown",
   "metadata": {},
   "source": [
    "### Exportar los dataframes"
   ]
  },
  {
   "cell_type": "markdown",
   "metadata": {},
   "source": [
    "```df_id_yeardev_sentiment```"
   ]
  },
  {
   "cell_type": "code",
   "execution_count": 36,
   "metadata": {},
   "outputs": [],
   "source": [
    "# Exporto el CSV\n",
    "\n",
    "df_id_yeardev_sentiment.to_csv('/Users/mlucchesi/Henry/PI/data/csv/procesados/year_sentiment.csv', index=False)"
   ]
  },
  {
   "cell_type": "code",
   "execution_count": 37,
   "metadata": {},
   "outputs": [],
   "source": [
    "# Exporto en parquet, para que la API esté optimizada\n",
    "\n",
    "df_id_yeardev_sentiment.to_parquet('/Users/mlucchesi/Henry/PI/MLOps/project/PI-MLOps/archivos/year_sentiment.parquet', engine='pyarrow')"
   ]
  },
  {
   "cell_type": "markdown",
   "metadata": {},
   "source": [
    "```df_developer_negative_review```"
   ]
  },
  {
   "cell_type": "code",
   "execution_count": 38,
   "metadata": {},
   "outputs": [],
   "source": [
    "# Exporto el CSV\n",
    "\n",
    "df_game_negative_review.to_csv('/Users/mlucchesi/Henry/PI/data/csv/procesados/game_negative_review.csv', index=False)"
   ]
  },
  {
   "cell_type": "code",
   "execution_count": 39,
   "metadata": {},
   "outputs": [],
   "source": [
    "# Exporto en parquet, para que la API esté optimizada\n",
    "\n",
    "df_game_negative_review.to_parquet('/Users/mlucchesi/Henry/PI/MLOps/project/PI-MLOps/archivos/game_negative_review.parquet', engine='pyarrow')"
   ]
  }
 ],
 "metadata": {
  "kernelspec": {
   "display_name": "Python 3",
   "language": "python",
   "name": "python3"
  },
  "language_info": {
   "codemirror_mode": {
    "name": "ipython",
    "version": 3
   },
   "file_extension": ".py",
   "mimetype": "text/x-python",
   "name": "python",
   "nbconvert_exporter": "python",
   "pygments_lexer": "ipython3",
   "version": "3.10.11"
  }
 },
 "nbformat": 4,
 "nbformat_minor": 2
}
