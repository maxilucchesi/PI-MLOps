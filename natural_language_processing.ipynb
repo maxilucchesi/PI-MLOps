{
 "cells": [
  {
   "cell_type": "markdown",
   "metadata": {},
   "source": [
    "# Librerías"
   ]
  },
  {
   "cell_type": "code",
   "execution_count": 9,
   "metadata": {},
   "outputs": [],
   "source": [
    "import pandas as pd\n",
    "import numpy as np\n",
    "import csv\n",
    "import string\n",
    "import re\n",
    "import seaborn as sn\n",
    "import matplotlib.pyplot as plt\n",
    "from textblob import TextBlob\n",
    "from sklearn.metrics.pairwise import linear_kernel\n",
    "from sklearn.metrics import roc_curve, roc_auc_score\n",
    "from sklearn.neighbors import KNeighborsClassifier\n",
    "from sklearn.metrics import roc_auc_score, f1_score, confusion_matrix\n",
    "from sklearn.model_selection import train_test_split\n",
    "from sklearn.linear_model import LogisticRegression\n",
    "from sklearn.feature_extraction.text import CountVectorizer, TfidfVectorizer"
   ]
  },
  {
   "cell_type": "markdown",
   "metadata": {},
   "source": [
    "# Feature Engineering"
   ]
  },
  {
   "cell_type": "code",
   "execution_count": 2,
   "metadata": {},
   "outputs": [],
   "source": [
    "# Se carga el CSV con la información ya procesada post proceso de ETL\n",
    "\n",
    "lista_rows = []\n",
    "\n",
    "with open('/Users/mlucchesi/Henry/PI/data/csv/procesados/users_reviews_procesado.csv', 'r') as csv_file:\n",
    "    csv_reader = csv.reader(csv_file)\n",
    "    headers = next(csv_reader)\n",
    "    for row in csv_reader:\n",
    "        lista_rows.append(row)\n",
    "\n",
    "# Se transponen las filas, guardadas en listas, para que queden como columnas\n",
    "\n",
    "df_user_reviews = pd.DataFrame(lista_rows, columns=headers)"
   ]
  },
  {
   "cell_type": "code",
   "execution_count": 3,
   "metadata": {},
   "outputs": [
    {
     "data": {
      "text/html": [
       "<div>\n",
       "<style scoped>\n",
       "    .dataframe tbody tr th:only-of-type {\n",
       "        vertical-align: middle;\n",
       "    }\n",
       "\n",
       "    .dataframe tbody tr th {\n",
       "        vertical-align: top;\n",
       "    }\n",
       "\n",
       "    .dataframe thead th {\n",
       "        text-align: right;\n",
       "    }\n",
       "</style>\n",
       "<table border=\"1\" class=\"dataframe\">\n",
       "  <thead>\n",
       "    <tr style=\"text-align: right;\">\n",
       "      <th></th>\n",
       "      <th></th>\n",
       "      <th>user_id</th>\n",
       "      <th>user_url</th>\n",
       "      <th>posted</th>\n",
       "      <th>item_id</th>\n",
       "      <th>helpful</th>\n",
       "      <th>recommend</th>\n",
       "      <th>review</th>\n",
       "    </tr>\n",
       "  </thead>\n",
       "  <tbody>\n",
       "    <tr>\n",
       "      <th>0</th>\n",
       "      <td>0</td>\n",
       "      <td>76561197970982479</td>\n",
       "      <td>http://steamcommunity.com/profiles/76561197970...</td>\n",
       "      <td>Posted November 5, 2011.</td>\n",
       "      <td>1250</td>\n",
       "      <td>No ratings yet</td>\n",
       "      <td>True</td>\n",
       "      <td>Simple yet with great replayability. In my opi...</td>\n",
       "    </tr>\n",
       "    <tr>\n",
       "      <th>1</th>\n",
       "      <td>1</td>\n",
       "      <td>js41637</td>\n",
       "      <td>http://steamcommunity.com/id/js41637</td>\n",
       "      <td>Posted June 24, 2014.</td>\n",
       "      <td>251610</td>\n",
       "      <td>15 of 20 people (75%) found this review helpful</td>\n",
       "      <td>True</td>\n",
       "      <td>I know what you think when you see this title ...</td>\n",
       "    </tr>\n",
       "    <tr>\n",
       "      <th>2</th>\n",
       "      <td>2</td>\n",
       "      <td>evcentric</td>\n",
       "      <td>http://steamcommunity.com/id/evcentric</td>\n",
       "      <td>Posted February 3.</td>\n",
       "      <td>248820</td>\n",
       "      <td>No ratings yet</td>\n",
       "      <td>True</td>\n",
       "      <td>A suitably punishing roguelike platformer.  Wi...</td>\n",
       "    </tr>\n",
       "    <tr>\n",
       "      <th>3</th>\n",
       "      <td>3</td>\n",
       "      <td>doctr</td>\n",
       "      <td>http://steamcommunity.com/id/doctr</td>\n",
       "      <td>Posted October 14, 2013.</td>\n",
       "      <td>250320</td>\n",
       "      <td>2 of 2 people (100%) found this review helpful</td>\n",
       "      <td>True</td>\n",
       "      <td>This game... is so fun. The fight sequences ha...</td>\n",
       "    </tr>\n",
       "    <tr>\n",
       "      <th>4</th>\n",
       "      <td>4</td>\n",
       "      <td>maplemage</td>\n",
       "      <td>http://steamcommunity.com/id/maplemage</td>\n",
       "      <td>Posted April 15, 2014.</td>\n",
       "      <td>211420</td>\n",
       "      <td>35 of 43 people (81%) found this review helpful</td>\n",
       "      <td>True</td>\n",
       "      <td>Git gud</td>\n",
       "    </tr>\n",
       "  </tbody>\n",
       "</table>\n",
       "</div>"
      ],
      "text/plain": [
       "                user_id                                           user_url  \\\n",
       "0  0  76561197970982479  http://steamcommunity.com/profiles/76561197970...   \n",
       "1  1            js41637               http://steamcommunity.com/id/js41637   \n",
       "2  2          evcentric             http://steamcommunity.com/id/evcentric   \n",
       "3  3              doctr                 http://steamcommunity.com/id/doctr   \n",
       "4  4          maplemage             http://steamcommunity.com/id/maplemage   \n",
       "\n",
       "                     posted item_id  \\\n",
       "0  Posted November 5, 2011.    1250   \n",
       "1     Posted June 24, 2014.  251610   \n",
       "2        Posted February 3.  248820   \n",
       "3  Posted October 14, 2013.  250320   \n",
       "4    Posted April 15, 2014.  211420   \n",
       "\n",
       "                                           helpful recommend  \\\n",
       "0                                   No ratings yet      True   \n",
       "1  15 of 20 people (75%) found this review helpful      True   \n",
       "2                                   No ratings yet      True   \n",
       "3   2 of 2 people (100%) found this review helpful      True   \n",
       "4  35 of 43 people (81%) found this review helpful      True   \n",
       "\n",
       "                                              review  \n",
       "0  Simple yet with great replayability. In my opi...  \n",
       "1  I know what you think when you see this title ...  \n",
       "2  A suitably punishing roguelike platformer.  Wi...  \n",
       "3  This game... is so fun. The fight sequences ha...  \n",
       "4                                            Git gud  "
      ]
     },
     "execution_count": 3,
     "metadata": {},
     "output_type": "execute_result"
    }
   ],
   "source": [
    "# Se mnuestra\n",
    "\n",
    "df_user_reviews.head()"
   ]
  },
  {
   "cell_type": "code",
   "execution_count": 4,
   "metadata": {},
   "outputs": [],
   "source": [
    "''' \n",
    "Se define la función \"sentiment_analysis\" que analiza la review del usuario y la cataloga como:\n",
    "- negativa: le asigna el valor \"0\"\n",
    "- sin especificar o con vlaor nulo: le asigna el valor \"1\"\n",
    "- positiva: le asigna el valor \"2\" \n",
    "'''\n",
    "\n",
    "def sentiment_analysis(text):\n",
    "    if pd.isnull(text):\n",
    "        return 1\n",
    "    else: polarity = TextBlob(str(text)).sentiment.polarity\n",
    "    if polarity < 0:\n",
    "        return 0\n",
    "    elif polarity == 0:\n",
    "        return 1\n",
    "    else:\n",
    "        return 2"
   ]
  },
  {
   "cell_type": "code",
   "execution_count": 5,
   "metadata": {},
   "outputs": [],
   "source": [
    "# Se crea la columna 'sentiment_analysis' con base en el valor de 'review' para cada registro\n",
    "\n",
    "df_user_reviews['sentiment_analysis'] = df_user_reviews['review'].apply(sentiment_analysis)\n",
    "\n",
    "# Luego, se dropea la columna 'review' para solo conservar la creada recientemente\n",
    "\n",
    "df_user_reviews.drop('review', axis=1, inplace=True)"
   ]
  },
  {
   "cell_type": "code",
   "execution_count": 6,
   "metadata": {},
   "outputs": [
    {
     "data": {
      "text/html": [
       "<div>\n",
       "<style scoped>\n",
       "    .dataframe tbody tr th:only-of-type {\n",
       "        vertical-align: middle;\n",
       "    }\n",
       "\n",
       "    .dataframe tbody tr th {\n",
       "        vertical-align: top;\n",
       "    }\n",
       "\n",
       "    .dataframe thead th {\n",
       "        text-align: right;\n",
       "    }\n",
       "</style>\n",
       "<table border=\"1\" class=\"dataframe\">\n",
       "  <thead>\n",
       "    <tr style=\"text-align: right;\">\n",
       "      <th></th>\n",
       "      <th>user_id</th>\n",
       "      <th>item_id</th>\n",
       "      <th>sentiment_analysis</th>\n",
       "    </tr>\n",
       "  </thead>\n",
       "  <tbody>\n",
       "    <tr>\n",
       "      <th>0</th>\n",
       "      <td>76561197970982479</td>\n",
       "      <td>1250</td>\n",
       "      <td>2</td>\n",
       "    </tr>\n",
       "    <tr>\n",
       "      <th>1</th>\n",
       "      <td>js41637</td>\n",
       "      <td>251610</td>\n",
       "      <td>2</td>\n",
       "    </tr>\n",
       "    <tr>\n",
       "      <th>2</th>\n",
       "      <td>evcentric</td>\n",
       "      <td>248820</td>\n",
       "      <td>2</td>\n",
       "    </tr>\n",
       "    <tr>\n",
       "      <th>3</th>\n",
       "      <td>doctr</td>\n",
       "      <td>250320</td>\n",
       "      <td>2</td>\n",
       "    </tr>\n",
       "    <tr>\n",
       "      <th>4</th>\n",
       "      <td>maplemage</td>\n",
       "      <td>211420</td>\n",
       "      <td>1</td>\n",
       "    </tr>\n",
       "  </tbody>\n",
       "</table>\n",
       "</div>"
      ],
      "text/plain": [
       "             user_id item_id  sentiment_analysis\n",
       "0  76561197970982479    1250                   2\n",
       "1            js41637  251610                   2\n",
       "2          evcentric  248820                   2\n",
       "3              doctr  250320                   2\n",
       "4          maplemage  211420                   1"
      ]
     },
     "execution_count": 6,
     "metadata": {},
     "output_type": "execute_result"
    }
   ],
   "source": [
    "# Se extra solo la columna con el resultado del análisis de la review\n",
    "\n",
    "only_reviews_polarity = df_user_reviews[['user_id', 'item_id', 'sentiment_analysis']]\n",
    "only_reviews_polarity.head()"
   ]
  },
  {
   "cell_type": "code",
   "execution_count": 7,
   "metadata": {},
   "outputs": [
    {
     "data": {
      "image/png": "[encoded data removed]",
      "text/plain": [
       "<Figure size 600x600 with 1 Axes>"
      ]
     },
     "metadata": {},
     "output_type": "display_data"
    }
   ],
   "source": [
    "# Muestra en un gráfico el porcentaje de juegos con review positiva, negativa, y nula\n",
    "\n",
    "value_counts = only_reviews_polarity['sentiment_analysis'].value_counts(normalize=True) * 100\n",
    "\n",
    "colores = ['lightgreen', 'lightyellow', 'lightcoral']\n",
    "\n",
    "plt.figure(figsize=(6, 6))\n",
    "plt.pie(value_counts, labels=value_counts.index, autopct='%1.1f%%', colors=colores)\n",
    "plt.title('Distribución de Sentimientos')\n",
    "plt.axis('equal')\n",
    "plt.show()"
   ]
  },
  {
   "cell_type": "code",
   "execution_count": 8,
   "metadata": {},
   "outputs": [],
   "source": [
    "# Exporto a CSV\n",
    "\n",
    "only_reviews_polarity.to_csv('/Users/mlucchesi/Henry/PI/data/csv/NLP/reviews_polarized.csv', index=False)"
   ]
  }
 ],
 "metadata": {
  "kernelspec": {
   "display_name": "Python 3",
   "language": "python",
   "name": "python3"
  },
  "language_info": {
   "codemirror_mode": {
    "name": "ipython",
    "version": 3
   },
   "file_extension": ".py",
   "mimetype": "text/x-python",
   "name": "python",
   "nbconvert_exporter": "python",
   "pygments_lexer": "ipython3",
   "version": "3.10.11"
  }
 },
 "nbformat": 4,
 "nbformat_minor": 2
}
